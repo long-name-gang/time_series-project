{
 "cells": [
  {
   "cell_type": "markdown",
   "id": "c5235ac6-063a-4ae9-9127-854ed895e5b2",
   "metadata": {},
   "source": [
    "# Time Series Project (NAME TBD)"
   ]
  },
  {
   "cell_type": "markdown",
   "id": "353f7aee-a7a9-463e-985b-1d933ef789b0",
   "metadata": {},
   "source": [
    "---"
   ]
  },
  {
   "cell_type": "markdown",
   "id": "af9a4448-d37f-43c0-bd8d-6b319abe558f",
   "metadata": {},
   "source": [
    "**Project & Final Report Created By:** Mathias Boissevain & Rachel Robbins-Mayhill, April 22, 2022"
   ]
  },
  {
   "cell_type": "markdown",
   "id": "889f78fe-2a02-4724-b848-3084a386cf32",
   "metadata": {},
   "source": [
    "---"
   ]
  },
  {
   "cell_type": "markdown",
   "id": "56032c3a-5da0-4a17-ad57-d251f2003490",
   "metadata": {},
   "source": [
    "5 POINTS -> GENERAL STYLE\n",
    "- Does your notebook have a good title? \n",
    "- Does the readme provide a description of the project and instructions on running your code? \n",
    "- Are headings used to organize the notebook? \n",
    "- Is the text free from grammatical and spelling errors?"
   ]
  },
  {
   "cell_type": "markdown",
   "id": "05a2955e-04ca-46b4-b50b-49ba304f2da8",
   "metadata": {},
   "source": [
    "5 POINTS -> CODE STYLE\n",
    "- Is the code well commented / documented? \n",
    "- Do functions and variables have descriptive names? \n",
    "- Is code broken up into functions / modules appropriately? - Is the code formatting consistent?"
   ]
  },
  {
   "cell_type": "markdown",
   "id": "e4c0ab9e-8c03-49d0-9dce-b758efbb8407",
   "metadata": {},
   "source": [
    "10 POINTS -> ACQUISITION & PREPARATION\n",
    "- Is data from the relevant tables included? \n",
    "- Is the data wrangling easily reproducible? \n",
    "- Can I import a function from an acquire/prep/wrangle module and have it give me the prepared data? \n",
    "- Are the steps taken for data acquisition and preparation well documented in the report notebook?"
   ]
  },
  {
   "cell_type": "code",
   "execution_count": 1,
   "id": "9c5b6e4b-5ea3-479e-b93e-ac8ddcf4b1b7",
   "metadata": {},
   "outputs": [],
   "source": [
    "# Import for data manipulation\n",
    "import pandas as pd\n",
    "import numpy as np\n",
    "\n",
    "# Import for data viz\n",
    "import seaborn as sns\n",
    "from matplotlib import pyplot as plt\n",
    "\n",
    "# Import for acquisition\n",
    "import env\n",
    "import os\n",
    "import mathias_wrangle as mw\n",
    "\n",
    "# Add for setting to see all rows and columns\n",
    "pd.options.display.max_rows = None\n",
    "pd.options.display.max_columns = None\n",
    "\n",
    "# Import to ignore warnings\n",
    "import warnings\n",
    "warnings.filterwarnings('ignore')"
   ]
  },
  {
   "cell_type": "markdown",
   "id": "df927ea6-a4f2-41f6-95cd-37cbe94cd91b",
   "metadata": {
    "tags": []
   },
   "source": [
    "## PROJECT DESCRIPTION:"
   ]
  },
  {
   "cell_type": "markdown",
   "id": "8274341e-8a13-4557-a483-1bb829959f67",
   "metadata": {},
   "source": [
    "Superstore's mission is to be the preferred supplier of workspace solutions; from home-office to cooperate office, we aspire to be the leading expert in workplace solutions for everyone! For this reason, it is important to know whether we are reaching everyone with our products and services. \n",
    "This project will use exploration, modeling, and statistics to identify the best customer segment for Superstore in regards to ________ and will provide recommendations on where to shift our company focus in order to maintain happy loyal customers while continuing to grow our customer base."
   ]
  },
  {
   "cell_type": "markdown",
   "id": "96ab34f6-9f73-4545-965d-7b243a155b4c",
   "metadata": {},
   "source": [
    "## PROJECT GOAL: "
   ]
  },
  {
   "cell_type": "markdown",
   "id": "37a3bc02-4ebb-4f8c-9421-03053a8517ba",
   "metadata": {},
   "source": [
    "The goal of this project is to identify which customer segment is the best for SuperStore, a office-supply retail store, and make recommendations on where to shift company focus in regards to customer segment. "
   ]
  },
  {
   "cell_type": "markdown",
   "id": "96f42bd2-cbf5-45f9-886b-98d05c0d0919",
   "metadata": {},
   "source": [
    "## INITIAL QUESTIONS: "
   ]
  },
  {
   "cell_type": "markdown",
   "id": "4784f61b-cb19-4171-addf-9b0ccdbbc9b0",
   "metadata": {},
   "source": [
    "##### Data-Focused Questions\n",
    "- What customer base contributes the most to profit?\n",
    "- What customer base contributes the most to sales?\n",
    "- How does the impact of each customer segment change over time?\n",
    "- What is our total revenue?\n",
    "- What amount of revenue is impacted by each customer segment?"
   ]
  },
  {
   "cell_type": "markdown",
   "id": "d5b306a1-c42e-423c-9af2-f03de34d1e65",
   "metadata": {},
   "source": [
    "##### Overall Project-Focused Questions\n",
    "- What will the end product look like?\n",
    "   + 5-minute presentation to key stakeholder, with best customer segment identified and recommendation given on where to shift company focus.\n",
    "- What format will it be in?\n",
    "   + Slide format, with agenda, executive summary, data overview, and recommendations along with Github Repo.\n",
    "- Who will it be delivered to?\n",
    "   + Company CEO\n",
    "- How will it be used?\n",
    "   + To recommend steps to take in order to grow customer segment________ .\n",
    "- How will I know I'm done?\n",
    "   + When customer segment impact and recommendation have been identified, along with deliverables complete.\n",
    "- What is my MVP?\n",
    "   + Identify best customer segment in regards to ONE of the following areas (sales volume, total profit, % profit, or sales growth). \n",
    "- How will I know it's good enough?\n",
    "   + If the exploratory process produces data-backed results outlining the 'best' customer segment along with an avenue for improving company profits. "
   ]
  },
  {
   "cell_type": "markdown",
   "id": "0de6d7b4-e71e-4a82-b1c7-621763912823",
   "metadata": {},
   "source": [
    "## HYPOTHESIS:\n",
    "- Which customer segment is the best?\n",
    "   + H0: The consumer customer segment's profit is <= the profit of all other customer segments.\n",
    "   + H1: The consumer customer segment's profit is > the profit of all other customer segments."
   ]
  },
  {
   "cell_type": "markdown",
   "id": "114d4094-6ba6-4cd7-8098-521ab89a7926",
   "metadata": {},
   "source": [
    "---"
   ]
  },
  {
   "cell_type": "markdown",
   "id": "f2ae5f60-62f1-4473-b58a-e77d0816874b",
   "metadata": {},
   "source": [
    "## I. ACQUIRE"
   ]
  },
  {
   "cell_type": "markdown",
   "id": "1ec9da6d-c872-4582-a768-c4b5a611aa8e",
   "metadata": {},
   "source": [
    "The data for this report was acquired by accessing 'superstore_db' from the Codeup SQL database. The following query was used to acquire the data:"
   ]
  },
  {
   "cell_type": "markdown",
   "id": "cf24c11b-ac5f-4414-be17-ca24d63ad416",
   "metadata": {},
   "source": [
    "    SELECT *\n",
    "    FROM orders\n",
    "    JOIN categories\n",
    "    USING(`Category ID`)\n",
    "    JOIN customers\n",
    "    USING(`Customer ID`)\n",
    "    JOIN products\n",
    "    USING(`Product ID`)\n",
    "    JOIN regions\n",
    "    USING(`Region ID`)"
   ]
  },
  {
   "cell_type": "markdown",
   "id": "b04d8f1f-9fd2-47b6-82c9-8b3fb22cf7bf",
   "metadata": {},
   "source": [
    "### The Original DataFrame Size: 1734 rows and 22 columns."
   ]
  },
  {
   "cell_type": "markdown",
   "id": "b7accbbe-bbfe-4a73-9720-0a954427080b",
   "metadata": {},
   "source": [
    "The acquisition of this data can be replicated using the following function saved within the wrangle.py file inside the 'mwb-rrm-codeup-time-series-project' repository on GitHub:\n",
    "\n",
    "- get_superstore(use_cache=True)  \n",
    "\n",
    "The function receives a boolean as input to see if the user wants to receive a fresh copy of the data from the database. Then it checks to see if the file being requested already exists as a local .csv. It runs a query for the data using the assigned url, creates a new .csv if needed, then returns the superstore dataframe.\n",
    "\n",
    "For succinctness of this report, the acquisition and preparation calls are done together in the Section II. Prepare. \n"
   ]
  },
  {
   "cell_type": "markdown",
   "id": "b041e94e-40da-4957-9f04-67c06c36cec8",
   "metadata": {},
   "source": [
    "========================================================================================"
   ]
  },
  {
   "cell_type": "markdown",
   "id": "3c0f4ea3-571c-4ee4-91c9-be9162d0ed45",
   "metadata": {},
   "source": [
    "## II. PREPARE"
   ]
  },
  {
   "cell_type": "markdown",
   "id": "0643ab31-575b-4b64-a58f-461ed01ba7fc",
   "metadata": {},
   "source": [
    "After data acquisition, the table was analyzed and cleaned to facilitate functional exploration, clarify confusion, and standardize datatypes. \n",
    "\n",
    "The preparation of this data can be replicated using the following function saved within the wrangle.py file inside the 'mwb-rrm-codeup-time-series-project' repository on GitHub. \n",
    "\n",
    "- prep_superstore\n",
    "\n",
    "The function takes in the original superstore dataframe and returns it with the changes noted below."
   ]
  },
  {
   "cell_type": "markdown",
   "id": "a2ab79d9-39ae-4387-afe4-9ddc914bec79",
   "metadata": {},
   "source": [
    "### Steps Taken to Clean & Prepare Data: \n",
    "\n",
    "- Removed unnecessary columns due to data duplication: region_id, product_id, category_id, customer_id\n",
    " \n",
    "- Formatted column names to lower case while replacing spaces with underscores for ease of use thorugh exploration\n",
    "\n",
    "- Set date columns to datetime type for use with time series analysis: order_date, ship_date\n",
    "\n",
    "- Set order_date as index and sort by index for time series analysis\n",
    "\n",
    "- Set postal code to object type for ease of exploration and potential modeling\n",
    "\n",
    "- Engineered column for the number of days it takes to ship from the order date for potential exploration\n",
    "\n",
    "- It was identified there were no null values"
   ]
  },
  {
   "cell_type": "markdown",
   "id": "74ea3087-fb00-40a0-b5da-ff7d2223b7d0",
   "metadata": {},
   "source": [
    "---"
   ]
  },
  {
   "cell_type": "markdown",
   "id": "0ce18ec4-6a7f-4b43-96b5-8a6ef04d07d0",
   "metadata": {},
   "source": [
    "### Results of Data Preparation"
   ]
  },
  {
   "cell_type": "code",
   "execution_count": 2,
   "id": "3bb0c669-3e6b-4de2-b0b5-d16aadbb0e3a",
   "metadata": {},
   "outputs": [],
   "source": [
    "#Acquire the superstore_db data using wrangle.get_superstore passed into the wrangle.prep_superstore function, which will prepare the dataset.\n",
    "ssdb = mw.prep_superstore(mw.get_superstore())"
   ]
  },
  {
   "cell_type": "code",
   "execution_count": 10,
   "id": "15bc329f-38ff-43f6-b5d2-611892c76c8b",
   "metadata": {},
   "outputs": [
    {
     "data": {
      "text/html": [
       "<div>\n",
       "<style scoped>\n",
       "    .dataframe tbody tr th:only-of-type {\n",
       "        vertical-align: middle;\n",
       "    }\n",
       "\n",
       "    .dataframe tbody tr th {\n",
       "        vertical-align: top;\n",
       "    }\n",
       "\n",
       "    .dataframe thead th {\n",
       "        text-align: right;\n",
       "    }\n",
       "</style>\n",
       "<table border=\"1\" class=\"dataframe\">\n",
       "  <thead>\n",
       "    <tr style=\"text-align: right;\">\n",
       "      <th>order_date</th>\n",
       "      <th>2014-01-04</th>\n",
       "      <th>2014-01-04</th>\n",
       "      <th>2014-01-04</th>\n",
       "      <th>2014-01-09</th>\n",
       "      <th>2014-01-09</th>\n",
       "    </tr>\n",
       "  </thead>\n",
       "  <tbody>\n",
       "    <tr>\n",
       "      <th>unnamed:_0</th>\n",
       "      <td>977</td>\n",
       "      <td>978</td>\n",
       "      <td>979</td>\n",
       "      <td>942</td>\n",
       "      <td>941</td>\n",
       "    </tr>\n",
       "    <tr>\n",
       "      <th>order_id</th>\n",
       "      <td>CA-2014-112326</td>\n",
       "      <td>CA-2014-112326</td>\n",
       "      <td>CA-2014-112326</td>\n",
       "      <td>CA-2014-135405</td>\n",
       "      <td>CA-2014-135405</td>\n",
       "    </tr>\n",
       "    <tr>\n",
       "      <th>ship_date</th>\n",
       "      <td>2014-01-08 00:00:00</td>\n",
       "      <td>2014-01-08 00:00:00</td>\n",
       "      <td>2014-01-08 00:00:00</td>\n",
       "      <td>2014-01-13 00:00:00</td>\n",
       "      <td>2014-01-13 00:00:00</td>\n",
       "    </tr>\n",
       "    <tr>\n",
       "      <th>ship_mode</th>\n",
       "      <td>Standard Class</td>\n",
       "      <td>Standard Class</td>\n",
       "      <td>Standard Class</td>\n",
       "      <td>Standard Class</td>\n",
       "      <td>Standard Class</td>\n",
       "    </tr>\n",
       "    <tr>\n",
       "      <th>segment</th>\n",
       "      <td>Home Office</td>\n",
       "      <td>Home Office</td>\n",
       "      <td>Home Office</td>\n",
       "      <td>Consumer</td>\n",
       "      <td>Consumer</td>\n",
       "    </tr>\n",
       "    <tr>\n",
       "      <th>country</th>\n",
       "      <td>United States</td>\n",
       "      <td>United States</td>\n",
       "      <td>United States</td>\n",
       "      <td>United States</td>\n",
       "      <td>United States</td>\n",
       "    </tr>\n",
       "    <tr>\n",
       "      <th>city</th>\n",
       "      <td>Naperville</td>\n",
       "      <td>Naperville</td>\n",
       "      <td>Naperville</td>\n",
       "      <td>Laredo</td>\n",
       "      <td>Laredo</td>\n",
       "    </tr>\n",
       "    <tr>\n",
       "      <th>state</th>\n",
       "      <td>Illinois</td>\n",
       "      <td>Illinois</td>\n",
       "      <td>Illinois</td>\n",
       "      <td>Texas</td>\n",
       "      <td>Texas</td>\n",
       "    </tr>\n",
       "    <tr>\n",
       "      <th>postal_code</th>\n",
       "      <td>60540.0</td>\n",
       "      <td>60540.0</td>\n",
       "      <td>60540.0</td>\n",
       "      <td>78041.0</td>\n",
       "      <td>78041.0</td>\n",
       "    </tr>\n",
       "    <tr>\n",
       "      <th>sales</th>\n",
       "      <td>11.784</td>\n",
       "      <td>272.736</td>\n",
       "      <td>3.54</td>\n",
       "      <td>31.2</td>\n",
       "      <td>9.344</td>\n",
       "    </tr>\n",
       "    <tr>\n",
       "      <th>quantity</th>\n",
       "      <td>3.0</td>\n",
       "      <td>3.0</td>\n",
       "      <td>2.0</td>\n",
       "      <td>3.0</td>\n",
       "      <td>2.0</td>\n",
       "    </tr>\n",
       "    <tr>\n",
       "      <th>discount</th>\n",
       "      <td>0.2</td>\n",
       "      <td>0.2</td>\n",
       "      <td>0.8</td>\n",
       "      <td>0.2</td>\n",
       "      <td>0.2</td>\n",
       "    </tr>\n",
       "    <tr>\n",
       "      <th>profit</th>\n",
       "      <td>4.2717</td>\n",
       "      <td>-64.7748</td>\n",
       "      <td>-5.487</td>\n",
       "      <td>9.75</td>\n",
       "      <td>1.168</td>\n",
       "    </tr>\n",
       "    <tr>\n",
       "      <th>category</th>\n",
       "      <td>Office Supplies</td>\n",
       "      <td>Office Supplies</td>\n",
       "      <td>Office Supplies</td>\n",
       "      <td>Technology</td>\n",
       "      <td>Office Supplies</td>\n",
       "    </tr>\n",
       "    <tr>\n",
       "      <th>sub-category</th>\n",
       "      <td>Labels</td>\n",
       "      <td>Storage</td>\n",
       "      <td>Binders</td>\n",
       "      <td>Accessories</td>\n",
       "      <td>Art</td>\n",
       "    </tr>\n",
       "    <tr>\n",
       "      <th>customer_name</th>\n",
       "      <td>Phillina Ober</td>\n",
       "      <td>Phillina Ober</td>\n",
       "      <td>Phillina Ober</td>\n",
       "      <td>Melanie Seite</td>\n",
       "      <td>Melanie Seite</td>\n",
       "    </tr>\n",
       "    <tr>\n",
       "      <th>product_name</th>\n",
       "      <td>Avery 508</td>\n",
       "      <td>SAFCO Boltless Steel Shelving</td>\n",
       "      <td>GBC Standard Plastic Binding Systems Combs</td>\n",
       "      <td>Memorex Micro Travel Drive 8 GB</td>\n",
       "      <td>Newell 312</td>\n",
       "    </tr>\n",
       "    <tr>\n",
       "      <th>region_name</th>\n",
       "      <td>Central</td>\n",
       "      <td>Central</td>\n",
       "      <td>Central</td>\n",
       "      <td>Central</td>\n",
       "      <td>Central</td>\n",
       "    </tr>\n",
       "    <tr>\n",
       "      <th>days_to_ship</th>\n",
       "      <td>4 days 00:00:00</td>\n",
       "      <td>4 days 00:00:00</td>\n",
       "      <td>4 days 00:00:00</td>\n",
       "      <td>4 days 00:00:00</td>\n",
       "      <td>4 days 00:00:00</td>\n",
       "    </tr>\n",
       "  </tbody>\n",
       "</table>\n",
       "</div>"
      ],
      "text/plain": [
       "order_date              2014-01-04                     2014-01-04  \\\n",
       "unnamed:_0                     977                            978   \n",
       "order_id            CA-2014-112326                 CA-2014-112326   \n",
       "ship_date      2014-01-08 00:00:00            2014-01-08 00:00:00   \n",
       "ship_mode           Standard Class                 Standard Class   \n",
       "segment                Home Office                    Home Office   \n",
       "country              United States                  United States   \n",
       "city                    Naperville                     Naperville   \n",
       "state                     Illinois                       Illinois   \n",
       "postal_code                60540.0                        60540.0   \n",
       "sales                       11.784                        272.736   \n",
       "quantity                       3.0                            3.0   \n",
       "discount                       0.2                            0.2   \n",
       "profit                      4.2717                       -64.7748   \n",
       "category           Office Supplies                Office Supplies   \n",
       "sub-category                Labels                        Storage   \n",
       "customer_name        Phillina Ober                  Phillina Ober   \n",
       "product_name             Avery 508  SAFCO Boltless Steel Shelving   \n",
       "region_name                Central                        Central   \n",
       "days_to_ship       4 days 00:00:00                4 days 00:00:00   \n",
       "\n",
       "order_date                                     2014-01-04  \\\n",
       "unnamed:_0                                            979   \n",
       "order_id                                   CA-2014-112326   \n",
       "ship_date                             2014-01-08 00:00:00   \n",
       "ship_mode                                  Standard Class   \n",
       "segment                                       Home Office   \n",
       "country                                     United States   \n",
       "city                                           Naperville   \n",
       "state                                            Illinois   \n",
       "postal_code                                       60540.0   \n",
       "sales                                                3.54   \n",
       "quantity                                              2.0   \n",
       "discount                                              0.8   \n",
       "profit                                             -5.487   \n",
       "category                                  Office Supplies   \n",
       "sub-category                                      Binders   \n",
       "customer_name                               Phillina Ober   \n",
       "product_name   GBC Standard Plastic Binding Systems Combs   \n",
       "region_name                                       Central   \n",
       "days_to_ship                              4 days 00:00:00   \n",
       "\n",
       "order_date                          2014-01-09           2014-01-09  \n",
       "unnamed:_0                                 942                  941  \n",
       "order_id                        CA-2014-135405       CA-2014-135405  \n",
       "ship_date                  2014-01-13 00:00:00  2014-01-13 00:00:00  \n",
       "ship_mode                       Standard Class       Standard Class  \n",
       "segment                               Consumer             Consumer  \n",
       "country                          United States        United States  \n",
       "city                                    Laredo               Laredo  \n",
       "state                                    Texas                Texas  \n",
       "postal_code                            78041.0              78041.0  \n",
       "sales                                     31.2                9.344  \n",
       "quantity                                   3.0                  2.0  \n",
       "discount                                   0.2                  0.2  \n",
       "profit                                    9.75                1.168  \n",
       "category                            Technology      Office Supplies  \n",
       "sub-category                       Accessories                  Art  \n",
       "customer_name                    Melanie Seite        Melanie Seite  \n",
       "product_name   Memorex Micro Travel Drive 8 GB           Newell 312  \n",
       "region_name                            Central              Central  \n",
       "days_to_ship                   4 days 00:00:00      4 days 00:00:00  "
      ]
     },
     "execution_count": 10,
     "metadata": {},
     "output_type": "execute_result"
    }
   ],
   "source": [
    "# Inspect df\n",
    "ssdb.head().T"
   ]
  },
  {
   "cell_type": "markdown",
   "id": "0e85c09c-8566-4c0a-befc-1bd21a5be384",
   "metadata": {},
   "source": [
    "### Prepared DataFrame Size: 1734 rows, 19 columns.\n",
    "- Dropped 4 columns, added 1."
   ]
  },
  {
   "cell_type": "markdown",
   "id": "9e82f982-2862-4811-bef0-90bb80b34389",
   "metadata": {},
   "source": [
    "---"
   ]
  },
  {
   "cell_type": "markdown",
   "id": "0b9e09b4-7ac4-421d-85be-b17824e8752b",
   "metadata": {},
   "source": [
    "### PREPARE - SPLIT the DATA"
   ]
  },
  {
   "cell_type": "code",
   "execution_count": null,
   "id": "f34f23ab-23f3-449d-b302-fb290abcc256",
   "metadata": {},
   "outputs": [],
   "source": []
  },
  {
   "cell_type": "markdown",
   "id": "2fc71004-6670-4878-9d95-64f2e13d0016",
   "metadata": {},
   "source": [
    "========================================================================================"
   ]
  },
  {
   "cell_type": "markdown",
   "id": "746cdbdb-2ac5-44b7-b201-4903f0c20fcd",
   "metadata": {},
   "source": [
    "---"
   ]
  },
  {
   "cell_type": "markdown",
   "id": "cd2232fe-5bbf-4e4f-a16d-c5dcbd322af2",
   "metadata": {},
   "source": [
    "## III. EXPLORE"
   ]
  },
  {
   "cell_type": "markdown",
   "id": "ece0dc0f-4245-4283-b7de-46c57b87e401",
   "metadata": {},
   "source": [
    "10 POINTS\n",
    "- Are figures well labeled (title, x + y labels)? \n",
    "- Does the type of visualization make sense for the variables being explored? \n",
    "- Is color used in an appropriate way? \n",
    "- Are takeaways documented? \n",
    "- Are questions asked and answered? \n",
    "- Are statistical tests used appropriately to back up conclusions?"
   ]
  },
  {
   "cell_type": "markdown",
   "id": "d96e4d5b-86a3-4081-975c-5a46a78a2dd9",
   "metadata": {},
   "source": [
    "#### Univariate:"
   ]
  },
  {
   "cell_type": "markdown",
   "id": "24afa690-cfc0-44aa-89e8-9b56bad24bb1",
   "metadata": {},
   "source": [
    "#### Bivariate:"
   ]
  },
  {
   "cell_type": "markdown",
   "id": "4cceae27-6682-4994-b470-ec3745425628",
   "metadata": {},
   "source": [
    "#### Multivariate:"
   ]
  },
  {
   "cell_type": "markdown",
   "id": "236ed809-2e21-40f6-90d0-586694e13aae",
   "metadata": {},
   "source": [
    "---"
   ]
  },
  {
   "cell_type": "markdown",
   "id": "30194df5-7aa9-45aa-a75a-99cdf2c920c7",
   "metadata": {},
   "source": [
    "### EXPLORE - Questions"
   ]
  },
  {
   "cell_type": "markdown",
   "id": "265360f3-0a73-4d32-bdbd-b50d0ad81330",
   "metadata": {
    "tags": []
   },
   "source": [
    "#### Question 1:  Which customer segment is the 'best'?"
   ]
  },
  {
   "cell_type": "markdown",
   "id": "3a11604d-1bb8-4cfd-bd57-ecb669b06d91",
   "metadata": {},
   "source": [
    "##### Visualization:"
   ]
  },
  {
   "cell_type": "markdown",
   "id": "36c93747-e679-4828-9d7e-405436f6ceed",
   "metadata": {
    "jp-MarkdownHeadingCollapsed": true,
    "tags": []
   },
   "source": [
    "##### Stats Testing:"
   ]
  },
  {
   "cell_type": "markdown",
   "id": "d6277c57-9489-4ad4-bb7c-1f0421137152",
   "metadata": {},
   "source": [
    "#### Answer: "
   ]
  },
  {
   "cell_type": "markdown",
   "id": "02674141-d919-4af6-9d8d-7ecdb241eba9",
   "metadata": {},
   "source": [
    "---"
   ]
  },
  {
   "cell_type": "markdown",
   "id": "7e3d7220-cc4d-428a-84d3-0f2dcc92c247",
   "metadata": {
    "tags": []
   },
   "source": [
    "#### Question 2: How do customer segment profit and sales change over time on average and in total?"
   ]
  },
  {
   "cell_type": "markdown",
   "id": "c0022ccb-cecb-4078-a796-bffd3adbc1fd",
   "metadata": {},
   "source": [
    "##### Visualization:"
   ]
  },
  {
   "cell_type": "markdown",
   "id": "2ca6b25c-5243-4ba9-9df8-8e999c942717",
   "metadata": {
    "tags": []
   },
   "source": [
    "##### Stats Testing:"
   ]
  },
  {
   "cell_type": "markdown",
   "id": "0b1bb50f-55e0-4335-a712-4a008b3603ed",
   "metadata": {
    "tags": []
   },
   "source": [
    "#### Answer: "
   ]
  },
  {
   "cell_type": "markdown",
   "id": "0fbe36f9-a778-49c5-8738-d93ae2c63d2f",
   "metadata": {},
   "source": [
    "---"
   ]
  },
  {
   "cell_type": "markdown",
   "id": "8e9b2c3f-f599-4f70-971b-ec0763f85bc9",
   "metadata": {
    "tags": []
   },
   "source": [
    "#### Question 3: Is sales total impacted by sales average?"
   ]
  },
  {
   "cell_type": "markdown",
   "id": "b2b1f8d3-8bd7-498c-b5f8-e0d767930c87",
   "metadata": {},
   "source": [
    "##### Visualization:"
   ]
  },
  {
   "cell_type": "markdown",
   "id": "d0585ad7-a9ff-4b75-9e9d-73cbf0bc0592",
   "metadata": {
    "tags": []
   },
   "source": [
    "##### Stats Testing:"
   ]
  },
  {
   "cell_type": "markdown",
   "id": "f03bebc7-9f1d-41ea-a506-ca8437a48031",
   "metadata": {
    "tags": []
   },
   "source": [
    "#### Answer: "
   ]
  },
  {
   "cell_type": "markdown",
   "id": "67e2c025-997d-42c6-8ae4-f13069859ffb",
   "metadata": {},
   "source": [
    "---"
   ]
  },
  {
   "cell_type": "markdown",
   "id": "3bd25f58-14bc-4149-b51e-7ce44ecddba4",
   "metadata": {
    "tags": []
   },
   "source": [
    "#### Question 4:"
   ]
  },
  {
   "cell_type": "markdown",
   "id": "bacb7ac1-913a-4a8a-91c9-75fcbcb1d351",
   "metadata": {},
   "source": [
    "##### Visualization:"
   ]
  },
  {
   "cell_type": "markdown",
   "id": "6b61b05c-e860-433a-a411-eaf6776bfab1",
   "metadata": {
    "tags": []
   },
   "source": [
    "##### Stats Testing:"
   ]
  },
  {
   "cell_type": "markdown",
   "id": "95213fe3-e15a-43f0-a98b-bc5798733cb5",
   "metadata": {
    "tags": []
   },
   "source": [
    "#### Answer: "
   ]
  },
  {
   "cell_type": "markdown",
   "id": "ac9f68d6-0fa3-4eda-8a6a-e4b14c103829",
   "metadata": {},
   "source": [
    "---"
   ]
  },
  {
   "cell_type": "markdown",
   "id": "4a0dc16d-cbb1-41c3-ae66-9c0dba73a1d9",
   "metadata": {},
   "source": [
    "### EXPLORATION TAKEAWAYS"
   ]
  },
  {
   "cell_type": "markdown",
   "id": "d71ad633-8125-48e3-ad6e-bac636541bc5",
   "metadata": {},
   "source": [
    "---"
   ]
  },
  {
   "cell_type": "markdown",
   "id": "79838767-daaa-4120-a1d4-69a1baa184f5",
   "metadata": {},
   "source": [
    "## MODELING (OPTIONAL)"
   ]
  },
  {
   "cell_type": "markdown",
   "id": "0f55eea5-2a81-4536-b874-a8a13ff8e786",
   "metadata": {},
   "source": [
    "---"
   ]
  },
  {
   "cell_type": "markdown",
   "id": "780a752f-56aa-47ab-bacf-d9328fcc8317",
   "metadata": {},
   "source": [
    "# SUMMARY"
   ]
  },
  {
   "cell_type": "markdown",
   "id": "f3a79b3e-aaf2-4f5a-9f80-cc287ea8833c",
   "metadata": {},
   "source": [
    "---"
   ]
  },
  {
   "cell_type": "markdown",
   "id": "eb1044b2-49e9-4876-b048-22fe56b896ac",
   "metadata": {},
   "source": [
    "## RECOMMENDATIONS"
   ]
  },
  {
   "cell_type": "markdown",
   "id": "d6e3fa49-1771-4356-b743-1ca80e4d24d0",
   "metadata": {},
   "source": [
    "10 POINTS -> RECOMMENDATIONS\n",
    "- Are recommendations that answer the original business question present, \n",
    "- clearly communicated, \n",
    "- backed by data, \n",
    "- and supported by visualizations?"
   ]
  },
  {
   "cell_type": "markdown",
   "id": "67daa9c6-81f0-4d02-81c2-96fc1c14d6f6",
   "metadata": {},
   "source": [
    "---"
   ]
  },
  {
   "cell_type": "markdown",
   "id": "fa23d06e-57c8-4808-8e97-51f966bb8986",
   "metadata": {},
   "source": [
    "## NEXT STEPS"
   ]
  },
  {
   "cell_type": "code",
   "execution_count": null,
   "id": "8dfbdda4-5620-4469-af01-df0b68aec1f9",
   "metadata": {},
   "outputs": [],
   "source": []
  }
 ],
 "metadata": {
  "kernelspec": {
   "display_name": "Python 3 (ipykernel)",
   "language": "python",
   "name": "python3"
  },
  "language_info": {
   "codemirror_mode": {
    "name": "ipython",
    "version": 3
   },
   "file_extension": ".py",
   "mimetype": "text/x-python",
   "name": "python",
   "nbconvert_exporter": "python",
   "pygments_lexer": "ipython3",
   "version": "3.9.7"
  }
 },
 "nbformat": 4,
 "nbformat_minor": 5
}
