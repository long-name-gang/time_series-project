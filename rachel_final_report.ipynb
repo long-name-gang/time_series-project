{
 "cells": [
  {
   "cell_type": "markdown",
   "id": "c5235ac6-063a-4ae9-9127-854ed895e5b2",
   "metadata": {},
   "source": [
    "# Time Series Project (NAME TBD)"
   ]
  },
  {
   "cell_type": "markdown",
   "id": "353f7aee-a7a9-463e-985b-1d933ef789b0",
   "metadata": {},
   "source": [
    "---"
   ]
  },
  {
   "cell_type": "markdown",
   "id": "af9a4448-d37f-43c0-bd8d-6b319abe558f",
   "metadata": {},
   "source": [
    "**Project & Final Report Created By:** Mathias Boissevain & Rachel Robbins-Mayhill, April 22, 2022"
   ]
  },
  {
   "cell_type": "markdown",
   "id": "889f78fe-2a02-4724-b848-3084a386cf32",
   "metadata": {},
   "source": [
    "---"
   ]
  },
  {
   "cell_type": "code",
   "execution_count": 1,
   "id": "9c5b6e4b-5ea3-479e-b93e-ac8ddcf4b1b7",
   "metadata": {},
   "outputs": [],
   "source": [
    "# Import for data manipulation\n",
    "import pandas as pd\n",
    "import numpy as np\n",
    "\n",
    "# Import for data viz\n",
    "import seaborn as sns\n",
    "from matplotlib import pyplot as plt\n",
    "\n",
    "# Import for acquisition\n",
    "import env\n",
    "import os\n",
    "import mathias_wrangle as mw\n",
    "\n",
    "# Add for setting to see all rows and columns\n",
    "pd.options.display.max_rows = None\n",
    "pd.options.display.max_columns = None\n",
    "\n",
    "# Import to ignore warnings\n",
    "import warnings\n",
    "warnings.filterwarnings('ignore')"
   ]
  },
  {
   "cell_type": "markdown",
   "id": "df927ea6-a4f2-41f6-95cd-37cbe94cd91b",
   "metadata": {
    "tags": []
   },
   "source": [
    "## PROJECT DESCRIPTION:"
   ]
  },
  {
   "cell_type": "code",
   "execution_count": null,
   "id": "248cab1d-5b6e-4f89-9e68-b7ae1754706e",
   "metadata": {},
   "outputs": [],
   "source": []
  },
  {
   "cell_type": "markdown",
   "id": "96ab34f6-9f73-4545-965d-7b243a155b4c",
   "metadata": {},
   "source": [
    "## PROJECT GOAL: "
   ]
  },
  {
   "cell_type": "code",
   "execution_count": null,
   "id": "6fff4cbd-a1d7-4c0e-9ee5-0c9e839f1488",
   "metadata": {},
   "outputs": [],
   "source": []
  },
  {
   "cell_type": "markdown",
   "id": "96f42bd2-cbf5-45f9-886b-98d05c0d0919",
   "metadata": {},
   "source": [
    "## INITIAL QUESTIONS: "
   ]
  },
  {
   "cell_type": "code",
   "execution_count": null,
   "id": "ba41d78d-2ca9-4605-bbcf-a5a21976f2a5",
   "metadata": {},
   "outputs": [],
   "source": []
  },
  {
   "cell_type": "markdown",
   "id": "114d4094-6ba6-4cd7-8098-521ab89a7926",
   "metadata": {},
   "source": [
    "---"
   ]
  },
  {
   "cell_type": "markdown",
   "id": "f2ae5f60-62f1-4473-b58a-e77d0816874b",
   "metadata": {},
   "source": [
    "## I. ACQUIRE"
   ]
  },
  {
   "cell_type": "markdown",
   "id": "5a7752ff-6f48-4b3e-9cc9-0672950f20f2",
   "metadata": {},
   "source": [
    "10 POINTS -> ACQUISITION & PREPARATION\n",
    "- Is data from the relevant tables included? \n",
    "- Is the data wrangling easily reproducible? \n",
    "- Can I import a function from an acquire/prep/wrangle module and have it give me the prepared data? \n",
    "- Are the steps taken for data acquisition and preparation well documented in the report notebook?"
   ]
  },
  {
   "cell_type": "markdown",
   "id": "bfd85d7a-0649-4827-9f36-8c151076bd43",
   "metadata": {},
   "source": [
    "5 POINTS -> CODE STYLE\n",
    "- Is the code well commented / documented? \n",
    "- Do functions and variables have descriptive names? \n",
    "- Is code broken up into functions / modules appropriately? - Is the code formatting consistent?"
   ]
  },
  {
   "cell_type": "markdown",
   "id": "02ad574d-d948-45cf-aa52-6b3856c62fc0",
   "metadata": {},
   "source": [
    "5 POINTS -> GENERAL STYLE\n",
    "- Does your notebook have a good title? \n",
    "- Does the readme provide a description of the project and instructions on running your code? \n",
    "- Are headings used to organize the notebook? \n",
    "- Is the text free from grammatical and spelling errors?"
   ]
  },
  {
   "cell_type": "code",
   "execution_count": 2,
   "id": "3bb0c669-3e6b-4de2-b0b5-d16aadbb0e3a",
   "metadata": {},
   "outputs": [],
   "source": [
    "ssdb = mw.prep_superstore(mw.get_superstore())"
   ]
  },
  {
   "cell_type": "code",
   "execution_count": 3,
   "id": "15bc329f-38ff-43f6-b5d2-611892c76c8b",
   "metadata": {},
   "outputs": [
    {
     "data": {
      "text/html": [
       "<div>\n",
       "<style scoped>\n",
       "    .dataframe tbody tr th:only-of-type {\n",
       "        vertical-align: middle;\n",
       "    }\n",
       "\n",
       "    .dataframe tbody tr th {\n",
       "        vertical-align: top;\n",
       "    }\n",
       "\n",
       "    .dataframe thead th {\n",
       "        text-align: right;\n",
       "    }\n",
       "</style>\n",
       "<table border=\"1\" class=\"dataframe\">\n",
       "  <thead>\n",
       "    <tr style=\"text-align: right;\">\n",
       "      <th></th>\n",
       "      <th>unnamed:_0</th>\n",
       "      <th>order_id</th>\n",
       "      <th>ship_date</th>\n",
       "      <th>ship_mode</th>\n",
       "      <th>segment</th>\n",
       "      <th>country</th>\n",
       "      <th>city</th>\n",
       "      <th>state</th>\n",
       "      <th>postal_code</th>\n",
       "      <th>sales</th>\n",
       "      <th>quantity</th>\n",
       "      <th>discount</th>\n",
       "      <th>profit</th>\n",
       "      <th>category</th>\n",
       "      <th>sub-category</th>\n",
       "      <th>customer_name</th>\n",
       "      <th>product_name</th>\n",
       "      <th>region_name</th>\n",
       "      <th>days_to_ship</th>\n",
       "    </tr>\n",
       "    <tr>\n",
       "      <th>order_date</th>\n",
       "      <th></th>\n",
       "      <th></th>\n",
       "      <th></th>\n",
       "      <th></th>\n",
       "      <th></th>\n",
       "      <th></th>\n",
       "      <th></th>\n",
       "      <th></th>\n",
       "      <th></th>\n",
       "      <th></th>\n",
       "      <th></th>\n",
       "      <th></th>\n",
       "      <th></th>\n",
       "      <th></th>\n",
       "      <th></th>\n",
       "      <th></th>\n",
       "      <th></th>\n",
       "      <th></th>\n",
       "      <th></th>\n",
       "    </tr>\n",
       "  </thead>\n",
       "  <tbody>\n",
       "    <tr>\n",
       "      <th>2014-01-04</th>\n",
       "      <td>977</td>\n",
       "      <td>CA-2014-112326</td>\n",
       "      <td>2014-01-08</td>\n",
       "      <td>Standard Class</td>\n",
       "      <td>Home Office</td>\n",
       "      <td>United States</td>\n",
       "      <td>Naperville</td>\n",
       "      <td>Illinois</td>\n",
       "      <td>60540.0</td>\n",
       "      <td>11.784</td>\n",
       "      <td>3.0</td>\n",
       "      <td>0.2</td>\n",
       "      <td>4.2717</td>\n",
       "      <td>Office Supplies</td>\n",
       "      <td>Labels</td>\n",
       "      <td>Phillina Ober</td>\n",
       "      <td>Avery 508</td>\n",
       "      <td>Central</td>\n",
       "      <td>4</td>\n",
       "    </tr>\n",
       "    <tr>\n",
       "      <th>2014-01-04</th>\n",
       "      <td>978</td>\n",
       "      <td>CA-2014-112326</td>\n",
       "      <td>2014-01-08</td>\n",
       "      <td>Standard Class</td>\n",
       "      <td>Home Office</td>\n",
       "      <td>United States</td>\n",
       "      <td>Naperville</td>\n",
       "      <td>Illinois</td>\n",
       "      <td>60540.0</td>\n",
       "      <td>272.736</td>\n",
       "      <td>3.0</td>\n",
       "      <td>0.2</td>\n",
       "      <td>-64.7748</td>\n",
       "      <td>Office Supplies</td>\n",
       "      <td>Storage</td>\n",
       "      <td>Phillina Ober</td>\n",
       "      <td>SAFCO Boltless Steel Shelving</td>\n",
       "      <td>Central</td>\n",
       "      <td>4</td>\n",
       "    </tr>\n",
       "    <tr>\n",
       "      <th>2014-01-04</th>\n",
       "      <td>979</td>\n",
       "      <td>CA-2014-112326</td>\n",
       "      <td>2014-01-08</td>\n",
       "      <td>Standard Class</td>\n",
       "      <td>Home Office</td>\n",
       "      <td>United States</td>\n",
       "      <td>Naperville</td>\n",
       "      <td>Illinois</td>\n",
       "      <td>60540.0</td>\n",
       "      <td>3.540</td>\n",
       "      <td>2.0</td>\n",
       "      <td>0.8</td>\n",
       "      <td>-5.4870</td>\n",
       "      <td>Office Supplies</td>\n",
       "      <td>Binders</td>\n",
       "      <td>Phillina Ober</td>\n",
       "      <td>GBC Standard Plastic Binding Systems Combs</td>\n",
       "      <td>Central</td>\n",
       "      <td>4</td>\n",
       "    </tr>\n",
       "    <tr>\n",
       "      <th>2014-01-09</th>\n",
       "      <td>942</td>\n",
       "      <td>CA-2014-135405</td>\n",
       "      <td>2014-01-13</td>\n",
       "      <td>Standard Class</td>\n",
       "      <td>Consumer</td>\n",
       "      <td>United States</td>\n",
       "      <td>Laredo</td>\n",
       "      <td>Texas</td>\n",
       "      <td>78041.0</td>\n",
       "      <td>31.200</td>\n",
       "      <td>3.0</td>\n",
       "      <td>0.2</td>\n",
       "      <td>9.7500</td>\n",
       "      <td>Technology</td>\n",
       "      <td>Accessories</td>\n",
       "      <td>Melanie Seite</td>\n",
       "      <td>Memorex Micro Travel Drive 8 GB</td>\n",
       "      <td>Central</td>\n",
       "      <td>4</td>\n",
       "    </tr>\n",
       "    <tr>\n",
       "      <th>2014-01-09</th>\n",
       "      <td>941</td>\n",
       "      <td>CA-2014-135405</td>\n",
       "      <td>2014-01-13</td>\n",
       "      <td>Standard Class</td>\n",
       "      <td>Consumer</td>\n",
       "      <td>United States</td>\n",
       "      <td>Laredo</td>\n",
       "      <td>Texas</td>\n",
       "      <td>78041.0</td>\n",
       "      <td>9.344</td>\n",
       "      <td>2.0</td>\n",
       "      <td>0.2</td>\n",
       "      <td>1.1680</td>\n",
       "      <td>Office Supplies</td>\n",
       "      <td>Art</td>\n",
       "      <td>Melanie Seite</td>\n",
       "      <td>Newell 312</td>\n",
       "      <td>Central</td>\n",
       "      <td>4</td>\n",
       "    </tr>\n",
       "  </tbody>\n",
       "</table>\n",
       "</div>"
      ],
      "text/plain": [
       "            unnamed:_0        order_id  ship_date       ship_mode  \\\n",
       "order_date                                                          \n",
       "2014-01-04         977  CA-2014-112326 2014-01-08  Standard Class   \n",
       "2014-01-04         978  CA-2014-112326 2014-01-08  Standard Class   \n",
       "2014-01-04         979  CA-2014-112326 2014-01-08  Standard Class   \n",
       "2014-01-09         942  CA-2014-135405 2014-01-13  Standard Class   \n",
       "2014-01-09         941  CA-2014-135405 2014-01-13  Standard Class   \n",
       "\n",
       "                segment        country        city     state  postal_code  \\\n",
       "order_date                                                                  \n",
       "2014-01-04  Home Office  United States  Naperville  Illinois      60540.0   \n",
       "2014-01-04  Home Office  United States  Naperville  Illinois      60540.0   \n",
       "2014-01-04  Home Office  United States  Naperville  Illinois      60540.0   \n",
       "2014-01-09     Consumer  United States      Laredo     Texas      78041.0   \n",
       "2014-01-09     Consumer  United States      Laredo     Texas      78041.0   \n",
       "\n",
       "              sales  quantity  discount   profit         category  \\\n",
       "order_date                                                          \n",
       "2014-01-04   11.784       3.0       0.2   4.2717  Office Supplies   \n",
       "2014-01-04  272.736       3.0       0.2 -64.7748  Office Supplies   \n",
       "2014-01-04    3.540       2.0       0.8  -5.4870  Office Supplies   \n",
       "2014-01-09   31.200       3.0       0.2   9.7500       Technology   \n",
       "2014-01-09    9.344       2.0       0.2   1.1680  Office Supplies   \n",
       "\n",
       "           sub-category  customer_name  \\\n",
       "order_date                               \n",
       "2014-01-04       Labels  Phillina Ober   \n",
       "2014-01-04      Storage  Phillina Ober   \n",
       "2014-01-04      Binders  Phillina Ober   \n",
       "2014-01-09  Accessories  Melanie Seite   \n",
       "2014-01-09          Art  Melanie Seite   \n",
       "\n",
       "                                          product_name region_name  \\\n",
       "order_date                                                           \n",
       "2014-01-04                                   Avery 508     Central   \n",
       "2014-01-04               SAFCO Boltless Steel Shelving     Central   \n",
       "2014-01-04  GBC Standard Plastic Binding Systems Combs     Central   \n",
       "2014-01-09             Memorex Micro Travel Drive 8 GB     Central   \n",
       "2014-01-09                                  Newell 312     Central   \n",
       "\n",
       "            days_to_ship  \n",
       "order_date                \n",
       "2014-01-04             4  \n",
       "2014-01-04             4  \n",
       "2014-01-04             4  \n",
       "2014-01-09             4  \n",
       "2014-01-09             4  "
      ]
     },
     "execution_count": 3,
     "metadata": {},
     "output_type": "execute_result"
    }
   ],
   "source": [
    "# Inspect df\n",
    "ssdb.head()"
   ]
  },
  {
   "cell_type": "markdown",
   "id": "9e82f982-2862-4811-bef0-90bb80b34389",
   "metadata": {},
   "source": [
    "---"
   ]
  },
  {
   "cell_type": "markdown",
   "id": "3c0f4ea3-571c-4ee4-91c9-be9162d0ed45",
   "metadata": {},
   "source": [
    "## II. PREPARE"
   ]
  },
  {
   "cell_type": "code",
   "execution_count": null,
   "id": "31732e62-47f5-4117-b70d-3378332d6402",
   "metadata": {},
   "outputs": [],
   "source": []
  },
  {
   "cell_type": "markdown",
   "id": "746cdbdb-2ac5-44b7-b201-4903f0c20fcd",
   "metadata": {},
   "source": [
    "---"
   ]
  },
  {
   "cell_type": "markdown",
   "id": "0b9e09b4-7ac4-421d-85be-b17824e8752b",
   "metadata": {},
   "source": [
    "### PREPARE - SPLIT the DATA"
   ]
  },
  {
   "cell_type": "code",
   "execution_count": null,
   "id": "f34f23ab-23f3-449d-b302-fb290abcc256",
   "metadata": {},
   "outputs": [],
   "source": []
  },
  {
   "cell_type": "markdown",
   "id": "2fc71004-6670-4878-9d95-64f2e13d0016",
   "metadata": {},
   "source": [
    "---"
   ]
  },
  {
   "cell_type": "markdown",
   "id": "cd2232fe-5bbf-4e4f-a16d-c5dcbd322af2",
   "metadata": {},
   "source": [
    "## III. EXPLORE"
   ]
  },
  {
   "cell_type": "markdown",
   "id": "ece0dc0f-4245-4283-b7de-46c57b87e401",
   "metadata": {},
   "source": [
    "10 POINTS\n",
    "- Are figures well labeled (title, x + y labels)? \n",
    "- Does the type of visualization make sense for the variables being explored? \n",
    "- Is color used in an appropriate way? \n",
    "- Are takeaways documented? \n",
    "- Are questions asked and answered? \n",
    "- Are statistical tests used appropriately to back up conclusions?"
   ]
  },
  {
   "cell_type": "markdown",
   "id": "d96e4d5b-86a3-4081-975c-5a46a78a2dd9",
   "metadata": {},
   "source": [
    "#### Univariate:"
   ]
  },
  {
   "cell_type": "markdown",
   "id": "24afa690-cfc0-44aa-89e8-9b56bad24bb1",
   "metadata": {},
   "source": [
    "#### Bivariate:"
   ]
  },
  {
   "cell_type": "markdown",
   "id": "4cceae27-6682-4994-b470-ec3745425628",
   "metadata": {},
   "source": [
    "#### Multivariate:"
   ]
  },
  {
   "cell_type": "markdown",
   "id": "236ed809-2e21-40f6-90d0-586694e13aae",
   "metadata": {},
   "source": [
    "---"
   ]
  },
  {
   "cell_type": "markdown",
   "id": "30194df5-7aa9-45aa-a75a-99cdf2c920c7",
   "metadata": {},
   "source": [
    "### EXPLORE - Questions"
   ]
  },
  {
   "cell_type": "markdown",
   "id": "265360f3-0a73-4d32-bdbd-b50d0ad81330",
   "metadata": {
    "tags": []
   },
   "source": [
    "#### Question 1:"
   ]
  },
  {
   "cell_type": "markdown",
   "id": "3a11604d-1bb8-4cfd-bd57-ecb669b06d91",
   "metadata": {},
   "source": [
    "##### Visualization:"
   ]
  },
  {
   "cell_type": "markdown",
   "id": "36c93747-e679-4828-9d7e-405436f6ceed",
   "metadata": {
    "jp-MarkdownHeadingCollapsed": true,
    "tags": []
   },
   "source": [
    "##### Stats Testing:"
   ]
  },
  {
   "cell_type": "markdown",
   "id": "d6277c57-9489-4ad4-bb7c-1f0421137152",
   "metadata": {},
   "source": [
    "#### Answer: "
   ]
  },
  {
   "cell_type": "markdown",
   "id": "02674141-d919-4af6-9d8d-7ecdb241eba9",
   "metadata": {},
   "source": [
    "---"
   ]
  },
  {
   "cell_type": "markdown",
   "id": "7e3d7220-cc4d-428a-84d3-0f2dcc92c247",
   "metadata": {
    "tags": []
   },
   "source": [
    "#### Question 2:"
   ]
  },
  {
   "cell_type": "markdown",
   "id": "c0022ccb-cecb-4078-a796-bffd3adbc1fd",
   "metadata": {},
   "source": [
    "##### Visualization:"
   ]
  },
  {
   "cell_type": "markdown",
   "id": "2ca6b25c-5243-4ba9-9df8-8e999c942717",
   "metadata": {
    "tags": []
   },
   "source": [
    "##### Stats Testing:"
   ]
  },
  {
   "cell_type": "markdown",
   "id": "0b1bb50f-55e0-4335-a712-4a008b3603ed",
   "metadata": {
    "tags": []
   },
   "source": [
    "#### Answer: "
   ]
  },
  {
   "cell_type": "markdown",
   "id": "0fbe36f9-a778-49c5-8738-d93ae2c63d2f",
   "metadata": {},
   "source": [
    "---"
   ]
  },
  {
   "cell_type": "markdown",
   "id": "8e9b2c3f-f599-4f70-971b-ec0763f85bc9",
   "metadata": {
    "tags": []
   },
   "source": [
    "#### Question 3:"
   ]
  },
  {
   "cell_type": "markdown",
   "id": "b2b1f8d3-8bd7-498c-b5f8-e0d767930c87",
   "metadata": {},
   "source": [
    "##### Visualization:"
   ]
  },
  {
   "cell_type": "markdown",
   "id": "d0585ad7-a9ff-4b75-9e9d-73cbf0bc0592",
   "metadata": {
    "tags": []
   },
   "source": [
    "##### Stats Testing:"
   ]
  },
  {
   "cell_type": "markdown",
   "id": "f03bebc7-9f1d-41ea-a506-ca8437a48031",
   "metadata": {
    "tags": []
   },
   "source": [
    "#### Answer: "
   ]
  },
  {
   "cell_type": "markdown",
   "id": "67e2c025-997d-42c6-8ae4-f13069859ffb",
   "metadata": {},
   "source": [
    "---"
   ]
  },
  {
   "cell_type": "markdown",
   "id": "3bd25f58-14bc-4149-b51e-7ce44ecddba4",
   "metadata": {
    "tags": []
   },
   "source": [
    "#### Question 4:"
   ]
  },
  {
   "cell_type": "markdown",
   "id": "bacb7ac1-913a-4a8a-91c9-75fcbcb1d351",
   "metadata": {},
   "source": [
    "##### Visualization:"
   ]
  },
  {
   "cell_type": "markdown",
   "id": "6b61b05c-e860-433a-a411-eaf6776bfab1",
   "metadata": {
    "tags": []
   },
   "source": [
    "##### Stats Testing:"
   ]
  },
  {
   "cell_type": "markdown",
   "id": "95213fe3-e15a-43f0-a98b-bc5798733cb5",
   "metadata": {
    "tags": []
   },
   "source": [
    "#### Answer: "
   ]
  },
  {
   "cell_type": "markdown",
   "id": "ac9f68d6-0fa3-4eda-8a6a-e4b14c103829",
   "metadata": {},
   "source": [
    "---"
   ]
  },
  {
   "cell_type": "markdown",
   "id": "4a0dc16d-cbb1-41c3-ae66-9c0dba73a1d9",
   "metadata": {},
   "source": [
    "### EXPLORATION TAKEAWAYS"
   ]
  },
  {
   "cell_type": "markdown",
   "id": "d71ad633-8125-48e3-ad6e-bac636541bc5",
   "metadata": {},
   "source": [
    "---"
   ]
  },
  {
   "cell_type": "markdown",
   "id": "79838767-daaa-4120-a1d4-69a1baa184f5",
   "metadata": {},
   "source": [
    "## MODELING (OPTIONAL)"
   ]
  },
  {
   "cell_type": "markdown",
   "id": "0f55eea5-2a81-4536-b874-a8a13ff8e786",
   "metadata": {},
   "source": [
    "---"
   ]
  },
  {
   "cell_type": "markdown",
   "id": "780a752f-56aa-47ab-bacf-d9328fcc8317",
   "metadata": {},
   "source": [
    "# SUMMARY"
   ]
  },
  {
   "cell_type": "markdown",
   "id": "f3a79b3e-aaf2-4f5a-9f80-cc287ea8833c",
   "metadata": {},
   "source": [
    "---"
   ]
  },
  {
   "cell_type": "markdown",
   "id": "eb1044b2-49e9-4876-b048-22fe56b896ac",
   "metadata": {},
   "source": [
    "## RECOMMENDATIONS"
   ]
  },
  {
   "cell_type": "markdown",
   "id": "d6e3fa49-1771-4356-b743-1ca80e4d24d0",
   "metadata": {},
   "source": [
    "10 POINTS -> RECOMMENDATIONS\n",
    "- Are recommendations that answer the original business question present, \n",
    "- clearly communicated, \n",
    "- backed by data, \n",
    "- and supported by visualizations?"
   ]
  },
  {
   "cell_type": "markdown",
   "id": "67daa9c6-81f0-4d02-81c2-96fc1c14d6f6",
   "metadata": {},
   "source": [
    "---"
   ]
  },
  {
   "cell_type": "markdown",
   "id": "fa23d06e-57c8-4808-8e97-51f966bb8986",
   "metadata": {},
   "source": [
    "## NEXT STEPS"
   ]
  },
  {
   "cell_type": "code",
   "execution_count": null,
   "id": "8dfbdda4-5620-4469-af01-df0b68aec1f9",
   "metadata": {},
   "outputs": [],
   "source": []
  }
 ],
 "metadata": {
  "kernelspec": {
   "display_name": "Python 3 (ipykernel)",
   "language": "python",
   "name": "python3"
  },
  "language_info": {
   "codemirror_mode": {
    "name": "ipython",
    "version": 3
   },
   "file_extension": ".py",
   "mimetype": "text/x-python",
   "name": "python",
   "nbconvert_exporter": "python",
   "pygments_lexer": "ipython3",
   "version": "3.9.7"
  }
 },
 "nbformat": 4,
 "nbformat_minor": 5
}
