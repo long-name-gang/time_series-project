{
 "cells": [
  {
   "cell_type": "markdown",
   "id": "c5235ac6-063a-4ae9-9127-854ed895e5b2",
   "metadata": {},
   "source": [
    "# SuperCONSUMER \n",
    "## An Evaluation of Superstore's Customer Segments"
   ]
  },
  {
   "cell_type": "markdown",
   "id": "353f7aee-a7a9-463e-985b-1d933ef789b0",
   "metadata": {},
   "source": [
    "---"
   ]
  },
  {
   "cell_type": "markdown",
   "id": "af9a4448-d37f-43c0-bd8d-6b319abe558f",
   "metadata": {},
   "source": [
    "**Time Series Project & Final Report Created By:** Mathias Boissevain & Rachel Robbins-Mayhill  |  April 22, 2022"
   ]
  },
  {
   "cell_type": "markdown",
   "id": "889f78fe-2a02-4724-b848-3084a386cf32",
   "metadata": {},
   "source": [
    "---"
   ]
  },
  {
   "cell_type": "markdown",
   "id": "530ac41f-2b2c-4a05-b6c9-0e4c40413508",
   "metadata": {},
   "source": [
    "<img src='Superstore.png' width=\"900\" height=\"200\" align=\"center\"/>"
   ]
  },
  {
   "cell_type": "code",
   "execution_count": 1,
   "id": "9c5b6e4b-5ea3-479e-b93e-ac8ddcf4b1b7",
   "metadata": {},
   "outputs": [],
   "source": [
    "# Import for data manipulation\n",
    "import pandas as pd\n",
    "import numpy as np\n",
    "\n",
    "# Import for data viz\n",
    "import seaborn as sns\n",
    "from matplotlib import pyplot as plt\n",
    "from matplotlib.ticker import StrMethodFormatter\n",
    "import squarify\n",
    "\n",
    "\n",
    "# Import for acquisition\n",
    "import env\n",
    "import os\n",
    "import wrangle\n",
    "\n",
    "# Add for setting to see all rows and columns\n",
    "pd.options.display.max_rows = None\n",
    "pd.options.display.max_columns = None\n",
    "\n",
    "# Import to ignore warnings\n",
    "import warnings\n",
    "warnings.filterwarnings('ignore')"
   ]
  },
  {
   "cell_type": "markdown",
   "id": "df927ea6-a4f2-41f6-95cd-37cbe94cd91b",
   "metadata": {
    "tags": []
   },
   "source": [
    "## PROJECT DESCRIPTION:"
   ]
  },
  {
   "cell_type": "markdown",
   "id": "8274341e-8a13-4557-a483-1bb829959f67",
   "metadata": {},
   "source": [
    "Superstore's mission is to be the preferred supplier of workspace solutions; from home-office to corporate office, we aspire to be the leading expert in workplace solutions for everyone! For this reason, it is important to know whether we are reaching everyone with our products and services. \n",
    "This project will use the Data Sciece Pipeline through exploration to identify the best customer segment for Superstore, an office supply retail store, and will provide recommendations on where to shift the company focus in order to maintain happy loyal customers while continuing to grow the customer base."
   ]
  },
  {
   "cell_type": "markdown",
   "id": "96ab34f6-9f73-4545-965d-7b243a155b4c",
   "metadata": {},
   "source": [
    "## PROJECT GOAL: "
   ]
  },
  {
   "cell_type": "markdown",
   "id": "37a3bc02-4ebb-4f8c-9421-03053a8517ba",
   "metadata": {},
   "source": [
    "The goal of this project is to identify which of Superstore's customer segments is the best, then make recommendations on where to shift company focus in regards to customer segments. "
   ]
  },
  {
   "cell_type": "markdown",
   "id": "96f42bd2-cbf5-45f9-886b-98d05c0d0919",
   "metadata": {},
   "source": [
    "## INITIAL QUESTIONS: "
   ]
  },
  {
   "cell_type": "markdown",
   "id": "4784f61b-cb19-4171-addf-9b0ccdbbc9b0",
   "metadata": {},
   "source": [
    "##### Data-Focused Questions\n",
    "- Who are our customers?\n",
    "- What does profit look like over time?\n",
    "- What do sales look like over time?\n",
    "- What customer base contributes the most to profit over time?\n",
    "- How does profit by customer segment trend over time?\n",
    "- What customer base contributes the most to sales over time\n",
    "- What is the sales per customer segment over time?\n",
    "- How many orders are placed annually per segment?"
   ]
  },
  {
   "cell_type": "markdown",
   "id": "d5b306a1-c42e-423c-9af2-f03de34d1e65",
   "metadata": {},
   "source": [
    "##### Overall Project-Focused Questions\n",
    "- What will the end product look like?\n",
    "   + 5-minute presentation to key stakeholder, with best customer segment identified and recommendation given on where to shift company focus.\n",
    "- What format will it be in?\n",
    "   + Slide format, with agenda, executive summary, data overview, and recommendations along with Github Repo.\n",
    "- Who will it be delivered to?\n",
    "   + Company CEO\n",
    "- How will it be used?\n",
    "   + To recommend steps to take in order to grow customer segment________ .\n",
    "- How will I know I'm done?\n",
    "   + When customer segment impact and recommendation have been identified, along with deliverables complete.\n",
    "- What is my MVP?\n",
    "   + Identify best customer segment in regards to ONE of the following areas (sales volume, total profit, % profit, or sales growth). \n",
    "- How will I know it's good enough?\n",
    "   + If the exploratory process produces data-backed results outlining the 'best' customer segment along with an avenue for improving company profits. "
   ]
  },
  {
   "cell_type": "markdown",
   "id": "0de6d7b4-e71e-4a82-b1c7-621763912823",
   "metadata": {},
   "source": [
    "## HYPOTHESIS:\n",
    "- Which customer segment is the best?\n",
    "   + H0: The consumer customer segment's profit is <= the profit of all other customer segments.\n",
    "   + H1: The consumer customer segment's profit is > the profit of all other customer segments."
   ]
  },
  {
   "cell_type": "markdown",
   "id": "114d4094-6ba6-4cd7-8098-521ab89a7926",
   "metadata": {},
   "source": [
    "---"
   ]
  },
  {
   "cell_type": "markdown",
   "id": "f2ae5f60-62f1-4473-b58a-e77d0816874b",
   "metadata": {},
   "source": [
    "## I. ACQUIRE"
   ]
  },
  {
   "cell_type": "markdown",
   "id": "1ec9da6d-c872-4582-a768-c4b5a611aa8e",
   "metadata": {},
   "source": [
    "The data for this report was acquired by accessing 'superstore_db' from the Codeup SQL database. The following query was used to acquire the data:"
   ]
  },
  {
   "cell_type": "markdown",
   "id": "cf24c11b-ac5f-4414-be17-ca24d63ad416",
   "metadata": {},
   "source": [
    "    SELECT *\n",
    "    FROM orders\n",
    "    JOIN categories\n",
    "    USING(`Category ID`)\n",
    "    JOIN customers\n",
    "    USING(`Customer ID`)\n",
    "    JOIN products\n",
    "    USING(`Product ID`)\n",
    "    JOIN regions\n",
    "    USING(`Region ID`)"
   ]
  },
  {
   "cell_type": "markdown",
   "id": "b04d8f1f-9fd2-47b6-82c9-8b3fb22cf7bf",
   "metadata": {},
   "source": [
    "### The Original DataFrame Size: 1734 rows and 22 columns."
   ]
  },
  {
   "cell_type": "markdown",
   "id": "b7accbbe-bbfe-4a73-9720-0a954427080b",
   "metadata": {},
   "source": [
    "The acquisition of this data can be replicated using the following function saved within the wrangle.py file inside the 'mwb-rrm-codeup-time-series-project' repository on GitHub:\n",
    "\n",
    "- get_superstore(use_cache=True)  \n",
    "\n",
    "The function receives a boolean as input to see if the user wants to receive a fresh copy of the data from the database. Then it checks to see if the file being requested already exists as a local .csv. It runs a query for the data using the assigned url, creates a new .csv if needed, then returns the superstore dataframe.\n",
    "\n",
    "For succinctness of this report, the acquisition and preparation calls are done together in the Section II. Prepare. \n"
   ]
  },
  {
   "cell_type": "markdown",
   "id": "b041e94e-40da-4957-9f04-67c06c36cec8",
   "metadata": {},
   "source": [
    "========================================================================================"
   ]
  },
  {
   "cell_type": "markdown",
   "id": "3c0f4ea3-571c-4ee4-91c9-be9162d0ed45",
   "metadata": {},
   "source": [
    "## II. PREPARE"
   ]
  },
  {
   "cell_type": "markdown",
   "id": "0643ab31-575b-4b64-a58f-461ed01ba7fc",
   "metadata": {},
   "source": [
    "After data acquisition, the table was analyzed and cleaned to facilitate functional exploration, clarify confusion, and standardize datatypes. \n",
    "\n",
    "The preparation of this data can be replicated using the following function saved within the wrangle.py file inside the 'mwb-rrm-codeup-time-series-project' repository on GitHub. \n",
    "\n",
    "- prep_superstore\n",
    "\n",
    "The function takes in the original superstore dataframe and returns it with the changes noted below."
   ]
  },
  {
   "cell_type": "markdown",
   "id": "a2ab79d9-39ae-4387-afe4-9ddc914bec79",
   "metadata": {},
   "source": [
    "### Steps Taken to Clean & Prepare Data: \n",
    "\n",
    "- Removed unnecessary columns due to data duplication: region_id, product_id, category_id, customer_id\n",
    " \n",
    "- Formatted column names to lower case while replacing spaces with underscores for ease of use thorugh exploration\n",
    "\n",
    "- Set date columns to datetime type for use with time series analysis: order_date, ship_date\n",
    "\n",
    "- Set order_date as index and sort by index for time series analysis\n",
    "\n",
    "- Set postal code to object type for ease of exploration and potential modeling\n",
    "\n",
    "- Engineered column for the number of days it takes to ship from the order date for potential exploration\n",
    "\n",
    "- Create year column from index for data exploration\n",
    "\n",
    "- It was identified there were no null values"
   ]
  },
  {
   "cell_type": "markdown",
   "id": "74ea3087-fb00-40a0-b5da-ff7d2223b7d0",
   "metadata": {},
   "source": [
    "---"
   ]
  },
  {
   "cell_type": "markdown",
   "id": "0ce18ec4-6a7f-4b43-96b5-8a6ef04d07d0",
   "metadata": {},
   "source": [
    "### Results of Data Preparation"
   ]
  },
  {
   "cell_type": "code",
   "execution_count": 2,
   "id": "3bb0c669-3e6b-4de2-b0b5-d16aadbb0e3a",
   "metadata": {},
   "outputs": [],
   "source": [
    "# Acquire the superstore_db data using wrangle.get_superstore passed into the wrangle.prep_superstore function, which will prepare the dataset.\n",
    "df = wrangle.prep_superstore(wrangle.get_superstore())"
   ]
  },
  {
   "cell_type": "code",
   "execution_count": 3,
   "id": "15bc329f-38ff-43f6-b5d2-611892c76c8b",
   "metadata": {},
   "outputs": [
    {
     "data": {
      "text/html": [
       "<div>\n",
       "<style scoped>\n",
       "    .dataframe tbody tr th:only-of-type {\n",
       "        vertical-align: middle;\n",
       "    }\n",
       "\n",
       "    .dataframe tbody tr th {\n",
       "        vertical-align: top;\n",
       "    }\n",
       "\n",
       "    .dataframe thead th {\n",
       "        text-align: right;\n",
       "    }\n",
       "</style>\n",
       "<table border=\"1\" class=\"dataframe\">\n",
       "  <thead>\n",
       "    <tr style=\"text-align: right;\">\n",
       "      <th>order_date</th>\n",
       "      <th>2014-01-04</th>\n",
       "      <th>2014-01-04</th>\n",
       "      <th>2014-01-04</th>\n",
       "      <th>2014-01-09</th>\n",
       "      <th>2014-01-09</th>\n",
       "    </tr>\n",
       "  </thead>\n",
       "  <tbody>\n",
       "    <tr>\n",
       "      <th>unnamed:_0</th>\n",
       "      <td>977</td>\n",
       "      <td>978</td>\n",
       "      <td>979</td>\n",
       "      <td>942</td>\n",
       "      <td>941</td>\n",
       "    </tr>\n",
       "    <tr>\n",
       "      <th>order_id</th>\n",
       "      <td>CA-2014-112326</td>\n",
       "      <td>CA-2014-112326</td>\n",
       "      <td>CA-2014-112326</td>\n",
       "      <td>CA-2014-135405</td>\n",
       "      <td>CA-2014-135405</td>\n",
       "    </tr>\n",
       "    <tr>\n",
       "      <th>ship_date</th>\n",
       "      <td>2014-01-08 00:00:00</td>\n",
       "      <td>2014-01-08 00:00:00</td>\n",
       "      <td>2014-01-08 00:00:00</td>\n",
       "      <td>2014-01-13 00:00:00</td>\n",
       "      <td>2014-01-13 00:00:00</td>\n",
       "    </tr>\n",
       "    <tr>\n",
       "      <th>ship_mode</th>\n",
       "      <td>Standard Class</td>\n",
       "      <td>Standard Class</td>\n",
       "      <td>Standard Class</td>\n",
       "      <td>Standard Class</td>\n",
       "      <td>Standard Class</td>\n",
       "    </tr>\n",
       "    <tr>\n",
       "      <th>segment</th>\n",
       "      <td>Home Office</td>\n",
       "      <td>Home Office</td>\n",
       "      <td>Home Office</td>\n",
       "      <td>Consumer</td>\n",
       "      <td>Consumer</td>\n",
       "    </tr>\n",
       "    <tr>\n",
       "      <th>country</th>\n",
       "      <td>United States</td>\n",
       "      <td>United States</td>\n",
       "      <td>United States</td>\n",
       "      <td>United States</td>\n",
       "      <td>United States</td>\n",
       "    </tr>\n",
       "    <tr>\n",
       "      <th>city</th>\n",
       "      <td>Naperville</td>\n",
       "      <td>Naperville</td>\n",
       "      <td>Naperville</td>\n",
       "      <td>Laredo</td>\n",
       "      <td>Laredo</td>\n",
       "    </tr>\n",
       "    <tr>\n",
       "      <th>state</th>\n",
       "      <td>Illinois</td>\n",
       "      <td>Illinois</td>\n",
       "      <td>Illinois</td>\n",
       "      <td>Texas</td>\n",
       "      <td>Texas</td>\n",
       "    </tr>\n",
       "    <tr>\n",
       "      <th>postal_code</th>\n",
       "      <td>60540.0</td>\n",
       "      <td>60540.0</td>\n",
       "      <td>60540.0</td>\n",
       "      <td>78041.0</td>\n",
       "      <td>78041.0</td>\n",
       "    </tr>\n",
       "    <tr>\n",
       "      <th>sales</th>\n",
       "      <td>11.784</td>\n",
       "      <td>272.736</td>\n",
       "      <td>3.54</td>\n",
       "      <td>31.2</td>\n",
       "      <td>9.344</td>\n",
       "    </tr>\n",
       "    <tr>\n",
       "      <th>quantity</th>\n",
       "      <td>3.0</td>\n",
       "      <td>3.0</td>\n",
       "      <td>2.0</td>\n",
       "      <td>3.0</td>\n",
       "      <td>2.0</td>\n",
       "    </tr>\n",
       "    <tr>\n",
       "      <th>discount</th>\n",
       "      <td>0.2</td>\n",
       "      <td>0.2</td>\n",
       "      <td>0.8</td>\n",
       "      <td>0.2</td>\n",
       "      <td>0.2</td>\n",
       "    </tr>\n",
       "    <tr>\n",
       "      <th>profit</th>\n",
       "      <td>4.2717</td>\n",
       "      <td>-64.7748</td>\n",
       "      <td>-5.487</td>\n",
       "      <td>9.75</td>\n",
       "      <td>1.168</td>\n",
       "    </tr>\n",
       "    <tr>\n",
       "      <th>category</th>\n",
       "      <td>Office Supplies</td>\n",
       "      <td>Office Supplies</td>\n",
       "      <td>Office Supplies</td>\n",
       "      <td>Technology</td>\n",
       "      <td>Office Supplies</td>\n",
       "    </tr>\n",
       "    <tr>\n",
       "      <th>sub-category</th>\n",
       "      <td>Labels</td>\n",
       "      <td>Storage</td>\n",
       "      <td>Binders</td>\n",
       "      <td>Accessories</td>\n",
       "      <td>Art</td>\n",
       "    </tr>\n",
       "    <tr>\n",
       "      <th>customer_name</th>\n",
       "      <td>Phillina Ober</td>\n",
       "      <td>Phillina Ober</td>\n",
       "      <td>Phillina Ober</td>\n",
       "      <td>Melanie Seite</td>\n",
       "      <td>Melanie Seite</td>\n",
       "    </tr>\n",
       "    <tr>\n",
       "      <th>product_name</th>\n",
       "      <td>Avery 508</td>\n",
       "      <td>SAFCO Boltless Steel Shelving</td>\n",
       "      <td>GBC Standard Plastic Binding Systems Combs</td>\n",
       "      <td>Memorex Micro Travel Drive 8 GB</td>\n",
       "      <td>Newell 312</td>\n",
       "    </tr>\n",
       "    <tr>\n",
       "      <th>region_name</th>\n",
       "      <td>Central</td>\n",
       "      <td>Central</td>\n",
       "      <td>Central</td>\n",
       "      <td>Central</td>\n",
       "      <td>Central</td>\n",
       "    </tr>\n",
       "    <tr>\n",
       "      <th>days_to_ship</th>\n",
       "      <td>4 days 00:00:00</td>\n",
       "      <td>4 days 00:00:00</td>\n",
       "      <td>4 days 00:00:00</td>\n",
       "      <td>4 days 00:00:00</td>\n",
       "      <td>4 days 00:00:00</td>\n",
       "    </tr>\n",
       "    <tr>\n",
       "      <th>year</th>\n",
       "      <td>2014</td>\n",
       "      <td>2014</td>\n",
       "      <td>2014</td>\n",
       "      <td>2014</td>\n",
       "      <td>2014</td>\n",
       "    </tr>\n",
       "  </tbody>\n",
       "</table>\n",
       "</div>"
      ],
      "text/plain": [
       "order_date              2014-01-04                     2014-01-04  \\\n",
       "unnamed:_0                     977                            978   \n",
       "order_id            CA-2014-112326                 CA-2014-112326   \n",
       "ship_date      2014-01-08 00:00:00            2014-01-08 00:00:00   \n",
       "ship_mode           Standard Class                 Standard Class   \n",
       "segment                Home Office                    Home Office   \n",
       "country              United States                  United States   \n",
       "city                    Naperville                     Naperville   \n",
       "state                     Illinois                       Illinois   \n",
       "postal_code                60540.0                        60540.0   \n",
       "sales                       11.784                        272.736   \n",
       "quantity                       3.0                            3.0   \n",
       "discount                       0.2                            0.2   \n",
       "profit                      4.2717                       -64.7748   \n",
       "category           Office Supplies                Office Supplies   \n",
       "sub-category                Labels                        Storage   \n",
       "customer_name        Phillina Ober                  Phillina Ober   \n",
       "product_name             Avery 508  SAFCO Boltless Steel Shelving   \n",
       "region_name                Central                        Central   \n",
       "days_to_ship       4 days 00:00:00                4 days 00:00:00   \n",
       "year                          2014                           2014   \n",
       "\n",
       "order_date                                     2014-01-04  \\\n",
       "unnamed:_0                                            979   \n",
       "order_id                                   CA-2014-112326   \n",
       "ship_date                             2014-01-08 00:00:00   \n",
       "ship_mode                                  Standard Class   \n",
       "segment                                       Home Office   \n",
       "country                                     United States   \n",
       "city                                           Naperville   \n",
       "state                                            Illinois   \n",
       "postal_code                                       60540.0   \n",
       "sales                                                3.54   \n",
       "quantity                                              2.0   \n",
       "discount                                              0.8   \n",
       "profit                                             -5.487   \n",
       "category                                  Office Supplies   \n",
       "sub-category                                      Binders   \n",
       "customer_name                               Phillina Ober   \n",
       "product_name   GBC Standard Plastic Binding Systems Combs   \n",
       "region_name                                       Central   \n",
       "days_to_ship                              4 days 00:00:00   \n",
       "year                                                 2014   \n",
       "\n",
       "order_date                          2014-01-09           2014-01-09  \n",
       "unnamed:_0                                 942                  941  \n",
       "order_id                        CA-2014-135405       CA-2014-135405  \n",
       "ship_date                  2014-01-13 00:00:00  2014-01-13 00:00:00  \n",
       "ship_mode                       Standard Class       Standard Class  \n",
       "segment                               Consumer             Consumer  \n",
       "country                          United States        United States  \n",
       "city                                    Laredo               Laredo  \n",
       "state                                    Texas                Texas  \n",
       "postal_code                            78041.0              78041.0  \n",
       "sales                                     31.2                9.344  \n",
       "quantity                                   3.0                  2.0  \n",
       "discount                                   0.2                  0.2  \n",
       "profit                                    9.75                1.168  \n",
       "category                            Technology      Office Supplies  \n",
       "sub-category                       Accessories                  Art  \n",
       "customer_name                    Melanie Seite        Melanie Seite  \n",
       "product_name   Memorex Micro Travel Drive 8 GB           Newell 312  \n",
       "region_name                            Central              Central  \n",
       "days_to_ship                   4 days 00:00:00      4 days 00:00:00  \n",
       "year                                      2014                 2014  "
      ]
     },
     "execution_count": 3,
     "metadata": {},
     "output_type": "execute_result"
    }
   ],
   "source": [
    "# Inspect df\n",
    "df.head().T"
   ]
  },
  {
   "cell_type": "code",
   "execution_count": 4,
   "id": "da153641-c221-44ac-81e7-50c030ae0086",
   "metadata": {},
   "outputs": [
    {
     "data": {
      "text/plain": [
       "(Timestamp('2014-01-04 00:00:00'), Timestamp('2017-12-30 00:00:00'))"
      ]
     },
     "execution_count": 4,
     "metadata": {},
     "output_type": "execute_result"
    }
   ],
   "source": [
    "#vObtain the start data and end date of the data set.\n",
    "df.index.min(), df.index.max()"
   ]
  },
  {
   "cell_type": "markdown",
   "id": "746cdbdb-2ac5-44b7-b201-4903f0c20fcd",
   "metadata": {},
   "source": [
    "---"
   ]
  },
  {
   "cell_type": "markdown",
   "id": "0e85c09c-8566-4c0a-befc-1bd21a5be384",
   "metadata": {},
   "source": [
    "### Prepared DataFrame Size: 1734 rows, 20 columns, spanning 3 years 2014-2017\n",
    "- Dropped 4 columns, added 2\n",
    "- Spanning time from 01-04-2014 to 12-30-2017 (3 years)"
   ]
  },
  {
   "cell_type": "markdown",
   "id": "9e82f982-2862-4811-bef0-90bb80b34389",
   "metadata": {},
   "source": [
    "---"
   ]
  },
  {
   "cell_type": "markdown",
   "id": "881efa27-12a5-42ae-9806-a5706319524b",
   "metadata": {},
   "source": [
    "##### ** Note on Data Split** \n",
    "The data was not split because no modeling was performed on the data. All exploration was done on the dataset as a whole. "
   ]
  },
  {
   "cell_type": "markdown",
   "id": "2fc71004-6670-4878-9d95-64f2e13d0016",
   "metadata": {},
   "source": [
    "========================================================================================"
   ]
  },
  {
   "cell_type": "markdown",
   "id": "cd2232fe-5bbf-4e4f-a16d-c5dcbd322af2",
   "metadata": {},
   "source": [
    "## III. EXPLORE"
   ]
  },
  {
   "cell_type": "markdown",
   "id": "504cc6b4-89c2-4750-b95b-8d980b66d671",
   "metadata": {
    "tags": []
   },
   "source": [
    "### EXPLORE - Questions"
   ]
  },
  {
   "cell_type": "markdown",
   "id": "385d70fa-e4e9-48a8-9901-03adbafacc26",
   "metadata": {},
   "source": [
    "1: Who are our customers?\n",
    "\n",
    "2a: What does profit look like over time?\n",
    "\n",
    "2b: What do sales look like over time?\n",
    "\n",
    "3: What customer base contributes the most to profit over time?\n",
    "\n",
    "4: How does profit by customer segment trend over time?\n",
    "    \n",
    "5: What customer base contributes the most to sales over time\n",
    "\n",
    "6: What is the sales per customer segment over time?\n",
    "\n",
    "7: How many orders are placed annually per segment?\n"
   ]
  },
  {
   "cell_type": "markdown",
   "id": "8b0ba46f-36aa-49f6-b5c8-a0a714b2f66b",
   "metadata": {},
   "source": [
    "Exploration started with looking at the distribution of profit and the distribution of our customer segments."
   ]
  },
  {
   "cell_type": "markdown",
   "id": "030d4bc7-6cbd-4cdb-8a85-23c129208626",
   "metadata": {},
   "source": [
    "10 POINTS\n",
    "\n",
    "\n",
    "\n",
    "- Are takeaways documented? \n",
    "\n",
    "- Are statistical tests used appropriately to back up conclusions?"
   ]
  },
  {
   "cell_type": "markdown",
   "id": "13d75f57-45c3-49c7-838c-78a627f67c72",
   "metadata": {},
   "source": [
    "---"
   ]
  },
  {
   "cell_type": "markdown",
   "id": "6c1f9463-3a83-40f8-a500-caa3d5681b8d",
   "metadata": {},
   "source": [
    "### QUESTION 1: Who are our customers?"
   ]
  },
  {
   "cell_type": "markdown",
   "id": "d96e4d5b-86a3-4081-975c-5a46a78a2dd9",
   "metadata": {},
   "source": [
    "#### UNIVARIATE:"
   ]
  },
  {
   "cell_type": "code",
   "execution_count": 5,
   "id": "d00406ea-d04e-4b86-a22e-d57c91423aaa",
   "metadata": {},
   "outputs": [
    {
     "data": {
      "image/png": "[encoded data removed]",
      "text/plain": [
       "<Figure size 864x504 with 1 Axes>"
      ]
     },
     "metadata": {
      "needs_background": "light"
     },
     "output_type": "display_data"
    }
   ],
   "source": [
    "# Assign Counts of Customers to each segement\n",
    "con_count = len(df.groupby(by=['segment','customer_name']).segment.value_counts().loc[('Consumer')])\n",
    "cor_count = len(df.groupby(by=['segment','customer_name']).segment.value_counts().loc[('Corporate')])\n",
    "hom_count = len(df.groupby(by=['segment','customer_name']).segment.value_counts().loc[('Home Office')])\n",
    "segment_counts = [con_count,cor_count,hom_count]\n",
    "\n",
    "# Assign segment percentages\n",
    "seg_percent = []\n",
    "\n",
    "for x in segment_counts:\n",
    "    seg_percent.append(f'\\nCount: {x}\\n Percent: {round(x / sum(segment_counts) * 100,2)} %')\n",
    "    \n",
    "seg_percent\n",
    "# Assign figure size\n",
    "plt.figure(figsize=(12,7))\n",
    "# Use Squarify to create a tree map of segment counts\n",
    "squarify.plot(sizes=segment_counts, \n",
    "              label=list(df.segment.value_counts().index),\n",
    "              value=seg_percent,\n",
    "              color = ['tab:blue','maroon','slateblue'],\n",
    "              text_kwargs={'fontsize': 17})\n",
    "# Assign titles\n",
    "plt.title('Customer Segment Breakdown', fontsize=27)\n",
    "plt.axis('off')\n",
    "plt.show()"
   ]
  },
  {
   "cell_type": "markdown",
   "id": "53ee21b3-536b-498b-96bb-427f95826894",
   "metadata": {},
   "source": [
    "Observations: \n",
    "- Consumer -> 52%\n",
    "- Corporate -> 29%\n",
    "- Home Office -> 18%"
   ]
  },
  {
   "cell_type": "markdown",
   "id": "9b8c95c7-0a49-4915-bc28-23529963cba2",
   "metadata": {},
   "source": [
    "### ANSWER 1: Our largest customer base is Consumer, followed by Corporate, then Home Office."
   ]
  },
  {
   "cell_type": "markdown",
   "id": "02016b61-e1ac-4078-9a05-11faea4b6759",
   "metadata": {},
   "source": [
    "---"
   ]
  },
  {
   "cell_type": "markdown",
   "id": "24afa690-cfc0-44aa-89e8-9b56bad24bb1",
   "metadata": {},
   "source": [
    "#### BIVARIATE:"
   ]
  },
  {
   "cell_type": "markdown",
   "id": "f20ac512-5d09-4f18-bbb2-6be7eb605562",
   "metadata": {},
   "source": [
    "### QUESTION 2a: What does profit look like over time?"
   ]
  },
  {
   "cell_type": "markdown",
   "id": "55bb19ea-c43d-4b6e-a89a-6a918ce7d096",
   "metadata": {},
   "source": [
    "#### Profit (target) Over Time"
   ]
  },
  {
   "cell_type": "code",
   "execution_count": 6,
   "id": "b0b5a01e-015c-490a-8c23-61b173392dcd",
   "metadata": {},
   "outputs": [
    {
     "data": {
      "image/png": "[encoded data removed]",
      "text/plain": [
       "<Figure size 432x288 with 1 Axes>"
      ]
     },
     "metadata": {
      "needs_background": "light"
     },
     "output_type": "display_data"
    }
   ],
   "source": [
    "# assign target variable\n",
    "y = df.profit\n",
    "\n",
    "# plot the target variable\n",
    "y.plot()\n",
    "# assign a title\n",
    "plt.title('PROFIT Over Time', fontsize = 18)\n",
    "# assign an x-label title\n",
    "plt.xlabel('Year-Month', fontsize = 15)\n",
    "# assign a y-label title\n",
    "plt.ylabel('Profit $', fontsize = 15)\n",
    "# determine figure size\n",
    "plt.rc('figure', figsize=(20, 8))\n",
    "# determine font size\n",
    "plt.rc('font', size=15)\n",
    "# determine style\n",
    "plt.style.use('bmh')\n",
    "# show visualization\n",
    "plt.show() "
   ]
  },
  {
   "cell_type": "markdown",
   "id": "dfbe70b6-cf4a-4d07-997c-afaead8c56a1",
   "metadata": {},
   "source": [
    "Observations: \n",
    "- There appear to be profit spikes between March and April each year.\n",
    "- There appear to be profit dips in September and October each year.\n",
    "- There was a significant loss in October/November of 2018."
   ]
  },
  {
   "cell_type": "markdown",
   "id": "d1cd891e-a7b1-4912-bf55-3be7cf2f8f64",
   "metadata": {},
   "source": [
    "### ANSWER 2a:  Profit has consistent seasonailty from 01/2014 - 09/2017, followed by a significant drop in 10-11/2018."
   ]
  },
  {
   "cell_type": "markdown",
   "id": "8c2a4a91-3e65-49fb-b13d-ed67196e89ff",
   "metadata": {},
   "source": [
    "### QUESTION 2b: What do sales look like over time?"
   ]
  },
  {
   "cell_type": "code",
   "execution_count": 7,
   "id": "a5892a74-a8dc-4f60-8543-130b3c09ee92",
   "metadata": {},
   "outputs": [
    {
     "data": {
      "image/png": "[encoded data removed]",
      "text/plain": [
       "<Figure size 936x504 with 1 Axes>"
      ]
     },
     "metadata": {
      "needs_background": "light"
     },
     "output_type": "display_data"
    }
   ],
   "source": [
    "# assign target variable\n",
    "y = df.sales\n",
    "# determine figure size\n",
    "plt.figure(figsize = (13,7))\n",
    "# plot the target variable\n",
    "y.plot()\n",
    "# assign a title\n",
    "plt.title('SALES Over Time', fontsize = 18)\n",
    "# assign an x-label title\n",
    "plt.xlabel('Year-Month', fontsize = 15)\n",
    "# assign a y-label title\n",
    "plt.ylabel('Sales $', fontsize = 15)\n",
    "# determine figure size\n",
    "#plt.rc('figure', figsize=(20, 7))\n",
    "# determine font size\n",
    "plt.rc('font', size=10)\n",
    "# determine style\n",
    "plt.style.use('bmh')\n",
    "# show visualization\n",
    "plt.show() "
   ]
  },
  {
   "cell_type": "markdown",
   "id": "9e4b297e-380f-4ace-8f1e-24a3f06417f3",
   "metadata": {},
   "source": [
    "### ANSWER 2b: Sales hover near \\\\$1000 most months, with spikes between \\\\$1000 and \\\\$3000 routinely. There were also 14 occurances between 2014 and 2018 of monthly sales over \\\\$3000."
   ]
  },
  {
   "cell_type": "markdown",
   "id": "e38f54d8-df0a-4c43-8d97-bb253c070a61",
   "metadata": {},
   "source": [
    "---"
   ]
  },
  {
   "cell_type": "markdown",
   "id": "4cceae27-6682-4994-b470-ec3745425628",
   "metadata": {},
   "source": [
    "#### Multivariate:"
   ]
  },
  {
   "cell_type": "markdown",
   "id": "a3bfa413-83c5-4685-90e3-5d9362c9f72a",
   "metadata": {},
   "source": [
    "### QUESTION 3: What customer base contributes the most to profit over time?"
   ]
  },
  {
   "cell_type": "code",
   "execution_count": 8,
   "id": "c7202dbb-4dd6-474a-9d76-cbdfea9a6eeb",
   "metadata": {},
   "outputs": [],
   "source": [
    "# create monthly_profit variable, group by segment and resamply monthly.\n",
    "monthly_profit = (\n",
    "    df[['profit','segment']]\n",
    "    .groupby('segment')\n",
    "    .resample('M')\n",
    "    .profit.sum()\n",
    "    .unstack(0)\n",
    ")"
   ]
  },
  {
   "cell_type": "code",
   "execution_count": 9,
   "id": "7dde9e42-f8e7-4e0d-9f7b-02f470e47277",
   "metadata": {
    "tags": []
   },
   "outputs": [
    {
     "data": {
      "text/plain": [
       "Text(0, 0.5, 'Profit')"
      ]
     },
     "execution_count": 9,
     "metadata": {},
     "output_type": "execute_result"
    },
    {
     "data": {
      "image/png": "[encoded data removed]",
      "text/plain": [
       "<Figure size 1440x576 with 1 Axes>"
      ]
     },
     "metadata": {
      "needs_background": "light"
     },
     "output_type": "display_data"
    }
   ],
   "source": [
    "#create a visualization of annual profit by segment across time\n",
    "ax = (\n",
    "    monthly_profit.resample('Y')\n",
    "    .sum()\n",
    "    .apply(lambda row: row / row.sum(),axis = 1)\n",
    "    .plot.bar(width=.8)\n",
    ")\n",
    "# place legend in selected location with a title.\n",
    "ax.legend(loc='upper left', title='Segment Type')\n",
    "#  format y-axis into percent\n",
    "ax.yaxis.set_major_formatter(StrMethodFormatter('{x:.0%}'))\n",
    "# prepare data for X-label ticks\n",
    "labels = [pd.to_datetime(t.get_text()).strftime('%Y') for t in ax.get_xticklabels()]\n",
    "# determine x_label ticks and their rotation\n",
    "ax.set_xticklabels(labels, rotation=0)\n",
    "# set title and size\n",
    "ax.set_title('% PROFIT By Segment Type Over Time', size= 22)\n",
    "# set x-label title and size\n",
    "ax.set_xlabel('Year', size= 20)\n",
    "#set y-label title and size\n",
    "ax.set_ylabel('Profit', size= 20)"
   ]
  },
  {
   "cell_type": "code",
   "execution_count": 10,
   "id": "0b778596-2751-4d3a-a6c0-527d053c354d",
   "metadata": {},
   "outputs": [
    {
     "ename": "IndentationError",
     "evalue": "unexpected indent (1769265405.py, line 2)",
     "output_type": "error",
     "traceback": [
      "\u001b[0;36m  File \u001b[0;32m\"/var/folders/jx/x5_xzwy107g6d0zd021r2ph40000gn/T/ipykernel_18590/1769265405.py\"\u001b[0;36m, line \u001b[0;32m2\u001b[0m\n\u001b[0;31m    H0: There is no difference in\u001b[0m\n\u001b[0m    ^\u001b[0m\n\u001b[0;31mIndentationError\u001b[0m\u001b[0;31m:\u001b[0m unexpected indent\n"
     ]
    }
   ],
   "source": [
    "Hypothesis: ANOVA \n",
    "    H0: There is no difference in "
   ]
  },
  {
   "cell_type": "markdown",
   "id": "eb256c21-134f-4004-b9bb-c462463846a6",
   "metadata": {},
   "source": [
    "### ANSWER 3: Consumer segment has historically contributed most consistently to profit over time, but there has been steady growth in the Corporate segment until 2017, when it produced over a 20% loss. The Home Office segment has been recovering and growing since the drop in 2015. "
   ]
  },
  {
   "cell_type": "markdown",
   "id": "236ed809-2e21-40f6-90d0-586694e13aae",
   "metadata": {},
   "source": [
    "---"
   ]
  },
  {
   "cell_type": "markdown",
   "id": "265360f3-0a73-4d32-bdbd-b50d0ad81330",
   "metadata": {
    "tags": []
   },
   "source": [
    "### Question 4:  How does profit by customer segment trend over time?"
   ]
  },
  {
   "cell_type": "markdown",
   "id": "3a11604d-1bb8-4cfd-bd57-ecb669b06d91",
   "metadata": {},
   "source": [
    "##### Visualization:"
   ]
  },
  {
   "cell_type": "code",
   "execution_count": null,
   "id": "f722d184-9e92-4faf-b4c9-7506115233ca",
   "metadata": {},
   "outputs": [],
   "source": [
    "# prepare data needed for visualization\n",
    "year_ssdb = df.groupby(by='segment').resample('Y').sum()\n",
    "# set index\n",
    "year_ssdb.index = year_ssdb.index.set_names(['segment','order_dates'])\n",
    "# Plot 3 lines to visualize profit over time for each customer segment \n",
    "year_ssdb.loc[('Consumer')]['profit'].plot(label='Consumer',linewidth=8)\n",
    "year_ssdb.loc[('Corporate')]['profit'].plot(label='Corporate',linewidth=8)\n",
    "year_ssdb.loc[('Home Office')]['profit'].plot(label='Home Office',linewidth=8)\n",
    "\n",
    "#create legend\n",
    "leg = plt.legend()\n",
    "\n",
    "#set line size\n",
    "leg.get_lines()[0].set_linewidth(8)\n",
    "leg.get_lines()[1].set_linewidth(8)\n",
    "leg.get_lines()[2].set_linewidth(8)\n",
    "\n",
    "# assign title to visualization, x and y\n",
    "plt.title('ANNUAL $ PROFIT by Segment Over Time', fontsize = 20)\n",
    "plt.xlabel('Year', fontsize = 18)\n",
    "plt.ylabel('Profit', fontsize = 18)\n",
    "plt.show()"
   ]
  },
  {
   "cell_type": "markdown",
   "id": "36c93747-e679-4828-9d7e-405436f6ceed",
   "metadata": {
    "jp-MarkdownHeadingCollapsed": true,
    "tags": []
   },
   "source": [
    "##### Stats Testing:"
   ]
  },
  {
   "cell_type": "markdown",
   "id": "d6277c57-9489-4ad4-bb7c-1f0421137152",
   "metadata": {},
   "source": [
    "### Answer 4: \n",
    "- Consumer profit has consistently been above \\\\$4000 annually.\n",
    "- Corporate profit had been building from \\\\$1800 to \\\\$5000 annually between 2014-2016, it then dropped to \\\\$-1800 in 2017. \n",
    "- Home Office profit has grown steadily after dropping between 2014 and 2015 from \\\\$1000 - \\\\$3500 annually between 2015-2017. "
   ]
  },
  {
   "cell_type": "markdown",
   "id": "549f1ff5-587d-41b0-8fa9-7c20a8385fb8",
   "metadata": {},
   "source": [
    "---"
   ]
  },
  {
   "cell_type": "markdown",
   "id": "e7b64db8-0d3c-411c-bf31-47ef96ac8624",
   "metadata": {},
   "source": [
    " ### QUESTION 5: What customer base contributes the most to sales over time?"
   ]
  },
  {
   "cell_type": "markdown",
   "id": "1cea2a38-93b0-45d2-8cf7-e1ff66e36c4a",
   "metadata": {},
   "source": [
    "##### Visualization:"
   ]
  },
  {
   "cell_type": "code",
   "execution_count": null,
   "id": "1a403238-2963-4734-9711-a6939cf3274d",
   "metadata": {},
   "outputs": [],
   "source": [
    "# create monthly_sales variable, group by segment and resamply monthly.\n",
    "monthly_sales = (\n",
    "    df[['sales','segment']]\n",
    "    .groupby('segment')\n",
    "    .resample('M')\n",
    "    .sales.sum()\n",
    "    .unstack(0)\n",
    ")"
   ]
  },
  {
   "cell_type": "code",
   "execution_count": null,
   "id": "1ce320ef-e81e-4e41-875a-510ceb3b571f",
   "metadata": {},
   "outputs": [],
   "source": [
    "#create a visualization of annual sales by segment across time\n",
    "ax = (\n",
    "    monthly_sales.resample('Y')\n",
    "    .sum()\n",
    "    .apply(lambda row: row / row.sum(),axis = 1)\n",
    "    .plot.bar(width=.8)\n",
    ")\n",
    "# create legend\n",
    "ax.legend(loc='upper right', title='Segment Type')\n",
    "#make y-axis percentage\n",
    "ax.yaxis.set_major_formatter(StrMethodFormatter('{x:.0%}'))\n",
    "# prepare data for X-label ticks\n",
    "labels = [pd.to_datetime(t.get_text()).strftime('%Y') for t in ax.get_xticklabels()]\n",
    "# determine x_label ticks and their rotation\n",
    "ax.set_xticklabels(labels, rotation=0)\n",
    "# create titles for visualization, x-axis and y-axis\n",
    "ax.set(ylabel='Sales $', title='$ SALES By Segment Type Over Time', xlabel='Year')"
   ]
  },
  {
   "cell_type": "markdown",
   "id": "c8876d85-99b7-409b-8664-6d4293d4edac",
   "metadata": {
    "tags": []
   },
   "source": [
    "##### Stats Testing:"
   ]
  },
  {
   "cell_type": "code",
   "execution_count": null,
   "id": "def63b3d-0e0b-434e-a346-4e9f4357b635",
   "metadata": {},
   "outputs": [],
   "source": []
  },
  {
   "cell_type": "markdown",
   "id": "e879bcca-700d-414e-ae89-866963f32e8a",
   "metadata": {
    "tags": []
   },
   "source": [
    "#### Answer 5: "
   ]
  },
  {
   "cell_type": "markdown",
   "id": "da233c00-4238-4e81-899d-097560ec9f56",
   "metadata": {},
   "source": [
    "Consumer segment has historically contributed most consistently to sales over time, but has seen a decline in sales totals from 2015 - 2017, while there has been steady growth in the Corporate segment, showing a 15% increase in 3 years. The Home Office segment has been recovering and growing in profit share since the drop in 2015. "
   ]
  },
  {
   "cell_type": "markdown",
   "id": "4d64f149-54b0-4f6c-a2e2-4df76964a9d1",
   "metadata": {},
   "source": [
    "---"
   ]
  },
  {
   "cell_type": "markdown",
   "id": "7e3d7220-cc4d-428a-84d3-0f2dcc92c247",
   "metadata": {
    "tags": []
   },
   "source": [
    "### Question 6: What is the sales per customer segment over time?"
   ]
  },
  {
   "cell_type": "markdown",
   "id": "c0022ccb-cecb-4078-a796-bffd3adbc1fd",
   "metadata": {},
   "source": [
    "##### Visualization:"
   ]
  },
  {
   "cell_type": "code",
   "execution_count": null,
   "id": "209c8e23-8279-4e99-b025-dea8826fd76a",
   "metadata": {},
   "outputs": [],
   "source": [
    "# prepare data needed for visualization\n",
    "year_ssdb = df.groupby(by='segment').resample('Y').sum()\n",
    "# set index\n",
    "year_ssdb.index = year_ssdb.index.set_names(['segment','order_dates'])\n",
    "\n",
    "# Plot 3 lines to visualize sales over time for each customer segment \n",
    "year_ssdb.loc[('Consumer')]['sales'].plot(label='Consumer',linewidth=8)\n",
    "year_ssdb.loc[('Corporate')]['sales'].plot(label='Corporate',linewidth=8)\n",
    "year_ssdb.loc[('Home Office')]['sales'].plot(label='Home Office',linewidth=8)\n",
    "\n",
    "# create legend\n",
    "leg = plt.legend()\n",
    "\n",
    "#set line size\n",
    "leg.get_lines()[0].set_linewidth(8)\n",
    "leg.get_lines()[1].set_linewidth(8)\n",
    "leg.get_lines()[2].set_linewidth(8)\n",
    "\n",
    "# assign title to visualization, x and y\n",
    "plt.title('ANNUAL $ SALES by Segment',fontsize = 18 )\n",
    "plt.xlabel('Year', fontsize = 16)\n",
    "plt.ylabel('Sales', fontsize = 16)\n",
    "plt.show()"
   ]
  },
  {
   "cell_type": "markdown",
   "id": "2ca6b25c-5243-4ba9-9df8-8e999c942717",
   "metadata": {
    "tags": []
   },
   "source": [
    "##### Stats Testing:"
   ]
  },
  {
   "cell_type": "markdown",
   "id": "0b1bb50f-55e0-4335-a712-4a008b3603ed",
   "metadata": {
    "tags": []
   },
   "source": [
    "### Answer 6: "
   ]
  },
  {
   "cell_type": "markdown",
   "id": "6205c177-a730-4c3e-9cef-7dfe31fda56a",
   "metadata": {},
   "source": [
    "- Consumer sales has decreased by \\\\$24K between 2015 and 2017, but is the highest performing segment at \\\\$36K annually.\n",
    "- Corporate sales have been increasing since 2015 from \\\\$19K annually to \\\\$36K annually, demonstrating the most growth in sales over time. \n",
    "- Home Office sales have grown steadily from \\\\$11K - \\\\$25K annually between 2015-2017. "
   ]
  },
  {
   "cell_type": "markdown",
   "id": "0fbe36f9-a778-49c5-8738-d93ae2c63d2f",
   "metadata": {},
   "source": [
    "---"
   ]
  },
  {
   "cell_type": "markdown",
   "id": "3bd25f58-14bc-4149-b51e-7ce44ecddba4",
   "metadata": {
    "tags": []
   },
   "source": [
    "### Question 7: How many orders are placed annually per segment?"
   ]
  },
  {
   "cell_type": "markdown",
   "id": "bacb7ac1-913a-4a8a-91c9-75fcbcb1d351",
   "metadata": {},
   "source": [
    "##### Visualization:"
   ]
  },
  {
   "cell_type": "code",
   "execution_count": null,
   "id": "a29fe639-c20a-4547-99ab-8cbcbb42cb1e",
   "metadata": {},
   "outputs": [],
   "source": [
    "# Create new dataframe sampled by year and grouped by segment and order id\n",
    "order_counts = df.groupby(by=['segment','order_id']).resample('Y').mean()\n",
    "#convert year from decimal to integer\n",
    "order_counts['year']=order_counts['year'].astype(int)\n",
    "# reset index to order date\n",
    "order_counts = order_counts.reset_index().set_index('order_date')\n",
    "# Create ne dataframe with the counts of each segment by year\n",
    "norder_counts = pd.DataFrame(order_counts[['year','segment']].value_counts()).reset_index()\n",
    "# plot the new dataframe with a bar chart\n",
    "plt.figure(figsize=[15,10])\n",
    "sns.barplot(x='year',y = 0, hue = 'segment', data = norder_counts)\n",
    "plt.title('Annual Order Counts by Segment')\n",
    "plt.xlabel('Year',size=20)\n",
    "plt.ylabel('Order Count',size=20)\n",
    "plt.show()"
   ]
  },
  {
   "cell_type": "markdown",
   "id": "6b61b05c-e860-433a-a411-eaf6776bfab1",
   "metadata": {
    "tags": []
   },
   "source": [
    "##### Stats Testing:"
   ]
  },
  {
   "cell_type": "markdown",
   "id": "95213fe3-e15a-43f0-a98b-bc5798733cb5",
   "metadata": {
    "tags": []
   },
   "source": [
    "### Answer 7: Order counts for Consumers are consistently increasing over time, with 2017 being the highest volume of orders at nearly 140. Corporate order counts had been increasing, doubling from 40 to 80 between 2015 and 2016, and experiencing a slight decline in 2017. Home Office order count volume has had a steady increase building from 23 to 43 orders annually across 4 years. "
   ]
  },
  {
   "cell_type": "code",
   "execution_count": null,
   "id": "c8c9ae90-5673-42c2-a5e6-930872978ede",
   "metadata": {},
   "outputs": [],
   "source": [
    "What impacted Corporate Profit in 2017?"
   ]
  },
  {
   "cell_type": "markdown",
   "id": "ac9f68d6-0fa3-4eda-8a6a-e4b14c103829",
   "metadata": {},
   "source": [
    "---"
   ]
  },
  {
   "cell_type": "markdown",
   "id": "4a0dc16d-cbb1-41c3-ae66-9c0dba73a1d9",
   "metadata": {
    "tags": []
   },
   "source": [
    "### EXPLORATION TAKEAWAYS"
   ]
  },
  {
   "cell_type": "markdown",
   "id": "6680cf1f-b1d7-4372-82dc-25eec3678484",
   "metadata": {},
   "source": [
    "Through exploration, we could see the Consumer segment is our largest segment by count and percentage. Although total sales within the Consumer segment has decreased by nearly 50% between 2015 and 2017, profit has remained fairly steady above 4000 USD annually. Corporate sales and profit had been growing between 2015 and 2016, and sales remained steady at in the 350K USD range in 2018 while also experiencing a significant profit loss.  After a slight decline in sales, and a significant decline in profit from the Home Office segment between 2014 and 2015, it has demonstrated consistent growth and recovery in both sales and profit from 2015 - 2018. Through exploration we were able to answer the following questions:\n",
    "\n",
    "1: Who are our customers?\n",
    "- ANSWER: Our largest customer base is Consumer, followed by Corporate, then Home Office.\n",
    "\n",
    "2a: What does profit look like over time?\n",
    "- ANSWER 2a: Profit has consistent seasonality from 01/2014 - 09/2017, followed by a significant drop in 10-11/2018.\n",
    "2b: What do sales look like over time?\n",
    "- ANSWER 2b: Sales hover near \\\\$1000 most months, with spikes between \\\\$1000 and \\\\$3000 routinely. There were also 14 occurrences between 2014 and 2018 of monthly sales over \\\\$3000.\n",
    "\n",
    "3: What customer base contributes the most to profit over time?\n",
    "- ANSWER: Consumer segment has historically contributed most consistently to profit over time, but there has been steady growth in the Corporate segment until 2017, when it produced over a 20% loss. The Home Office segment has been recovering and growing since the drop in 2015.\n",
    "\n",
    "4: How does profit by customer segment trend over time?\n",
    "- Answer 4:\n",
    "    - Consumer profit has consistently been above \\\\$4000 annually.\n",
    "    - Corporate profit had been building from \\\\$1800 to \\\\$5000 annually between 2014-2016, it then dropped to \\\\$-1800 in 2017.\n",
    "    - Home Office profit has grown steadily after dropping between 2014 and 2015 from $1000 - \\\\$3500 annually between 2015-2017.\n",
    "    \n",
    "5: What customer base contributes the most to sales over time\n",
    "- Consumer segment has historically contributed most consistently to sales over time, but has seen a decline in sales totals from 2015 - 2017, while there has been steady growth in the Corporate segment, showing a 15% increase in 3 years. The Home Office segment has been recovering and growing in profit share since the drop in 2015. \n",
    "\n",
    "6: What is the sales per customer segment over time?\n",
    "- Consumer sales have decreased by \\\\$24K between 2015 and 2017, but is the highest performing segment at \\\\$36K annually.\n",
    "- Corporate sales have been increasing since 2015 from \\\\$19K annually to \\\\$36K annually, demonstrating the most growth in sales over time. \n",
    "- Home Office sales have grown steadily from \\\\$11K - \\\\$25K annually between 2015-2017. \n",
    "\n",
    "7:  How many orders are placed annually per segment?\n",
    "- Order counts for Consumers are consistently increasing over time, with 2017 being the highest volume of orders at nearly 140. Corporate order counts had been increasing, doubling from 40 to 80 between 2015 and 2016, and experiencing a slight decline in 2017. Home Office order count volume has had a steady increase building from 23 to 43 orders annually across 4 years."
   ]
  },
  {
   "cell_type": "markdown",
   "id": "0370466d-2878-43a9-9dad-c0a5f6fc50c5",
   "metadata": {},
   "source": [
    "---"
   ]
  },
  {
   "cell_type": "markdown",
   "id": "d71ad633-8125-48e3-ad6e-bac636541bc5",
   "metadata": {},
   "source": [
    "---"
   ]
  },
  {
   "cell_type": "markdown",
   "id": "780a752f-56aa-47ab-bacf-d9328fcc8317",
   "metadata": {},
   "source": [
    "# CONCLUSION"
   ]
  },
  {
   "cell_type": "markdown",
   "id": "eb1044b2-49e9-4876-b048-22fe56b896ac",
   "metadata": {},
   "source": [
    "## RECOMMENDATIONS"
   ]
  },
  {
   "cell_type": "markdown",
   "id": "73c9fa99-f7cf-4c66-9d2f-458724d5984b",
   "metadata": {},
   "source": [
    "The goal of this report was to identify **which customer segment is the best** for SuperStore and make recommendations on **where to shift company focus** in regards to customer segment. The following recommendations are based upon the exploration, visualization, and analysis completed through the Data Science Pipeline process above: "
   ]
  },
  {
   "cell_type": "markdown",
   "id": "cd53ad37-35ce-4f62-a9bc-00132abe86ff",
   "metadata": {},
   "source": [
    "#### Business Question: What customer segment is best?"
   ]
  },
  {
   "cell_type": "markdown",
   "id": "6ecca3fa-11dc-436a-a41e-38cb85ab2034",
   "metadata": {},
   "source": [
    "Superstore has 3 customer segments; Consumer, Corporate, and Home Office. When determining what made the 'best' customer, we analyzed the 3 segments in regards to both sales and profit. Ultimately, we determined Consumers are the best customer segment because of their overall consistency in sales and profit. Consumers make up 52% of our customer base, and consistently produce >\\\\$4000 annually in profit, which is  54% of the annual average profit, and our highest sales totals at over \\\\$ 53,242 annually on average, $25K more than the Corporate segment, and \\\\$35K more than Home Office customers.  Despite declining sales totals between 2015-2017, Consumer order numbers have increased 61% in 4 years and profitability has doubled over the same time, remaining the top order and profit drawing segment within our 3 customer segments. "
   ]
  },
  {
   "cell_type": "markdown",
   "id": "e5d8bfdc-d2e6-46b8-8b1d-66843f99b4a8",
   "metadata": {},
   "source": [
    "#### What customer segment should we shift focus to?"
   ]
  },
  {
   "cell_type": "markdown",
   "id": "c27e7a99-6cbb-4c66-ac50-c5f21ca1b3ca",
   "metadata": {},
   "source": [
    "We should shift focus to the Corporate customer segment. They were showing steady growth in sales totals, profit, and order counts between 2014 - 2016. The drop in profitability in 2017 can be attributed to a single order of 4 3D printers to one Corporate customer, and we beleive this to be an anomily that greatly impacted the appearance of performance across our Corporate client segment. From 2014 - 2016 the Corporate segment was the second highest performing segement in regards to profit and sales totals, producing over 40% of the total annual profit by 2016."
   ]
  },
  {
   "cell_type": "markdown",
   "id": "67daa9c6-81f0-4d02-81c2-96fc1c14d6f6",
   "metadata": {},
   "source": [
    "---"
   ]
  },
  {
   "cell_type": "markdown",
   "id": "fa23d06e-57c8-4808-8e97-51f966bb8986",
   "metadata": {},
   "source": [
    "## NEXT STEPS"
   ]
  },
  {
   "cell_type": "markdown",
   "id": "84d94d49-0fae-4a96-b25e-05e7d79d719e",
   "metadata": {},
   "source": [
    "If given more time, we would like to explore:\n",
    "- What are drivers of the decrease in consumer spending? \n",
    "    - To identify why total sales is decreasing so dramitically across the Consumer segment from 2015 - 2017.\n",
    "\n",
    "- What products contribute most to profit across consumer and corporate segments?\n",
    "    - To determine whether there could be a marketing strategy to increase profitability in our best and growing segments.\n",
    "\n",
    "- What products contribute most to loss across consumer and corporate segments?\n",
    "    - To determine whether there could be a marketing strategy to decrease loss and increase profit in our best and growing segments.\n",
    "\n",
    "- How can discounts be applied creatively while maintaining profitability?\n",
    "    - To determine how best to encourage sales across segements while not impacting overall profitability.\n",
    "    - To minimize repeat of \\\\$3800 loss in single sale.\n",
    "    \n",
    "- Which types of businesses have top-performing corporate accounts?\n",
    "    - To determine whether there could be a marketing strategy to acquire new Corporate accounts."
   ]
  },
  {
   "cell_type": "markdown",
   "id": "e187bcc7-facf-46e0-b587-476427f2fee4",
   "metadata": {},
   "source": [
    "---"
   ]
  },
  {
   "cell_type": "markdown",
   "id": "1c5e8ff5-d9af-47c5-8865-5abe4ba1c9c5",
   "metadata": {},
   "source": [
    "1. Continue to reward Consumer loyalty as our best customer segment:\n",
    "- Data shows Consumers react postively to discounts.\n",
    "- Provide a 5% increase in discount for every ________________.\n",
    "\n",
    "\n",
    "2. Shift Focus to Corperate Clients\n",
    "- Analyze high performing accounts more thorouly.\n",
    "- Analyze procut trends across Corporate purchases.\n",
    "- Analyze profitability of high-performing products for Corporate purchases."
   ]
  }
 ],
 "metadata": {
  "kernelspec": {
   "display_name": "Python 3 (ipykernel)",
   "language": "python",
   "name": "python3"
  },
  "language_info": {
   "codemirror_mode": {
    "name": "ipython",
    "version": 3
   },
   "file_extension": ".py",
   "mimetype": "text/x-python",
   "name": "python",
   "nbconvert_exporter": "python",
   "pygments_lexer": "ipython3",
   "version": "3.9.7"
  }
 },
 "nbformat": 4,
 "nbformat_minor": 5
}
